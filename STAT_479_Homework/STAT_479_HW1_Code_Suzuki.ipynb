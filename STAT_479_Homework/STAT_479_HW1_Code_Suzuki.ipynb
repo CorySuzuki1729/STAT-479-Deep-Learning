{
 "cells": [
  {
   "cell_type": "markdown",
   "metadata": {},
   "source": [
    "# Homework 1 Assignment: Coding Portion"
   ]
  },
  {
   "cell_type": "code",
   "execution_count": 1,
   "metadata": {},
   "outputs": [],
   "source": [
    "# Import all necessary libraries for the assignment.\n",
    "\n",
    "import keras as keras\n",
    "import tensorflow as tf\n",
    "import numpy as np\n",
    "import pandas as pd\n",
    "import matplotlib.pyplot as plt\n",
    "from sklearn.datasets import load_iris\n",
    "from sklearn.model_selection import train_test_split\n",
    "from sklearn.preprocessing import StandardScaler"
   ]
  },
  {
   "cell_type": "code",
   "execution_count": 14,
   "metadata": {},
   "outputs": [
    {
     "name": "stdout",
     "output_type": "stream",
     "text": [
      "0.23999999999999996\n"
     ]
    }
   ],
   "source": [
    "# Problem 4: Write a Python function that simulates a single neuron. The neuron takes two inputs, applies a weight to each,\n",
    "# adds a bias, and applies a ReLU activation function. Use the following parameters: x_1 = .5, x_2 = .3, w_1 = .2, w_2 = .8,\n",
    "# b = -.1\n",
    "\n",
    "# Initialize parameters for neural network.\n",
    "\n",
    "input_vals = [.5, .3]\n",
    "weight_vals = [.2, .8]\n",
    "bias_val = -.1\n",
    "\n",
    "def single_neuron(inputs, weights, bias):\n",
    "    weighted_output = np.dot(inputs, weights) + bias\n",
    "    activated_output = np.maximum(0, weighted_output)\n",
    "    return activated_output\n",
    "\n",
    "print(single_neuron(input_vals, weight_vals, bias_val))\n",
    "\n",
    "# Round the output value to 4 decimal places."
   ]
  },
  {
   "cell_type": "code",
   "execution_count": 5,
   "metadata": {},
   "outputs": [
    {
     "name": "stdout",
     "output_type": "stream",
     "text": [
      "0.6355265132643103\n"
     ]
    }
   ],
   "source": [
    "# Problem 5: Write a Python function that implements forward propagation for a simple 2 layer\n",
    "# neural network (input, hidden layer, output layers) with ReLU activation in the hidden layer\n",
    "# and sigmoid activation in the output layer. Use the below parameters.\n",
    "\n",
    "\n",
    "# Initialize parameters for neural network.\n",
    "\n",
    "nn_input = [.7, .5]\n",
    "hidden_weights = [[.3, .5], [.7, -.1]]\n",
    "hidden_bias = [.2, -.4]\n",
    "output_weights = [.6, -.2]\n",
    "output_bias = .1\n",
    "\n",
    "def feedforward_NN(inputs, weights1, bias1, weights2, bias2):\n",
    "    hidden_output = np.dot(inputs, weights1) + bias1\n",
    "    relu_activation = np.maximum(0, hidden_output)\n",
    "    hidden_input = np.dot(relu_activation, weights2) + bias2\n",
    "    final_output = 1./(1 + np.exp(-hidden_input))\n",
    "    return final_output\n",
    "\n",
    "print(feedforward_NN(nn_input, hidden_weights, hidden_bias, output_weights, output_bias))\n"
   ]
  },
  {
   "cell_type": "code",
   "execution_count": 2,
   "metadata": {},
   "outputs": [
    {
     "name": "stdout",
     "output_type": "stream",
     "text": [
      "Updated weights and biases:\n",
      "Weights 1 (Hidden Layer):\n",
      "[[ 0.30153079  0.50109342]\n",
      " [ 0.7        -0.1       ]]\n",
      "Biases 1 (Hidden Layer):\n",
      "[ 0.20218684 -0.4       ]\n",
      "Weights 2 (Output Layer):\n",
      "[ 0.60277 -0.2    ]\n",
      "Biases 2 (Output Layer):\n",
      "0.1036447348673569\n",
      "The output of the network after backpropagation: 0.6373\n"
     ]
    }
   ],
   "source": [
    "# Problem 6: Extend the previous problem to include backpropagation. Given a true label y = 1,\n",
    "# update the weights and biases using gradient descent with a learning rate of 0.01.\n",
    "\n",
    "# Defining ReLU activation function.\n",
    "def relu(x):\n",
    "    return np.maximum(0, x)\n",
    "\n",
    "# Define the derivative of ReLU for backpropagation.\n",
    "def relu_derivative(x):\n",
    "    return np.where(x > 0, 1, 0)\n",
    "\n",
    "# Define Sigmoid activation function.\n",
    "def sigmoid(x):\n",
    "    return 1 / (1 + np.exp(-x))\n",
    "\n",
    "# Define the derivative of Sigmoid for backpropagation.\n",
    "def sigmoid_derivative(x):\n",
    "    return sigmoid(x) * (1 - sigmoid(x))\n",
    "\n",
    "# Define the forward propagation function.\n",
    "def forward_propagation(inputs, weights_1, biases_1, weights_2, biases_2):\n",
    "    # Hidden layer: inputs -> weighted sum -> ReLU activation.\n",
    "    z1 = np.dot(np.array(weights_1).T, inputs) + biases_1\n",
    "    hidden_layer_output = relu(z1)\n",
    "    \n",
    "    # Output layer: hidden layer -> weighted sum -> Sigmoid activation.\n",
    "    z2 = np.dot(np.array(weights_2).T, hidden_layer_output,) + biases_2\n",
    "    output_layer_output = sigmoid(z2)\n",
    "    \n",
    "    return z1, hidden_layer_output, z2, output_layer_output\n",
    "\n",
    "# Backpropagation function to display updated weights and biases.\n",
    "def backpropagation_display(inputs, z1, hidden_layer_output, z2, output, weights_1, biases_1, weights_2, biases_2, y, learning_rate):\n",
    "    # Use Binary Cross Entropy Loss Function.\n",
    "    d_loss_output = - (y/output - (1-y)/(1-output))  # Derivative of loss with respect to output.\n",
    "    \n",
    "    # Output layer gradients.\n",
    "    d_z2 = d_loss_output * sigmoid_derivative(z2)  # Derivative of loss with respect to z2\n",
    "    d_weights_2 = np.dot(d_z2, hidden_layer_output.T)  # Derivative of loss with respect to weights_2\n",
    "    d_biases_2 = d_z2  # Derivative of loss with respect to biases_2.\n",
    "    \n",
    "    # Backpropagating to hidden layer.\n",
    "    d_hidden_output = np.dot(weights_2, d_z2) * relu_derivative(z1)  # Derivative of loss with respect to hidden layer output\n",
    "    d_weights_1 = np.dot(d_hidden_output.reshape(-1, 1), np.array(inputs).reshape(1, -1))  # Derivative of loss with respect to weights_1\n",
    "    d_biases_1 = d_hidden_output  # Derivative of loss with respect to biases_1\n",
    "    \n",
    "    # Update weights and biases using gradient descent\n",
    "    weights_1 -= learning_rate * d_weights_1\n",
    "    biases_1 -= learning_rate * d_biases_1\n",
    "    weights_2 -= learning_rate * d_weights_2\n",
    "    biases_2 -= learning_rate * d_biases_2\n",
    "    \n",
    "    print(\"Updated weights and biases:\")\n",
    "    print(\"Weights 1 (Hidden Layer):\")\n",
    "    print(weights_1)\n",
    "    print(\"Biases 1 (Hidden Layer):\")\n",
    "    print(biases_1)\n",
    "    print(\"Weights 2 (Output Layer):\")\n",
    "    print(weights_2)\n",
    "    print(\"Biases 2 (Output Layer):\")\n",
    "    print(biases_2)\n",
    "    \n",
    "    return weights_1, biases_1, weights_2, biases_2\n",
    "\n",
    "# Initialize inputs, weights, and biases\n",
    "inputs = [0.7, 0.5]\n",
    "weights_1 = [[0.3, 0.5], [0.7, -0.1]]\n",
    "biases_1 = [0.2, -0.4]\n",
    "weights_2 = [0.6, -0.2]\n",
    "biases_2 = 0.1\n",
    "\n",
    "# Initialize the True label.\n",
    "y = 1\n",
    "\n",
    "# Initialize the Learning rate.\n",
    "learning_rate = 0.01\n",
    "\n",
    "# Perform forward propagation.\n",
    "z1, hidden_layer_output, z2, output = forward_propagation(inputs, weights_1, biases_1, weights_2, biases_2)\n",
    "\n",
    "# Print the output\n",
    "# print(f\"The output of the network before backpropagation: {output:.4f}\")\n",
    "\n",
    "# Perform backpropagation and display updated weights and biases.\n",
    "weights_1, biases_1, weights_2, biases_2 = backpropagation_display(\n",
    "    inputs, z1, hidden_layer_output, z2, output, weights_1, biases_1, weights_2, biases_2, y, learning_rate\n",
    ")\n",
    "\n",
    "# Perform forward propagation again to see the new output after weight updates.\n",
    "_, _, _, new_output = forward_propagation(inputs, weights_1, biases_1, weights_2, biases_2)\n",
    "\n",
    "# Print the updated output.\n",
    "print(f\"The output of the network after backpropagation: {new_output:.4f}\")\n",
    "\n"
   ]
  },
  {
   "cell_type": "code",
   "execution_count": 13,
   "metadata": {},
   "outputs": [],
   "source": [
    "# Problem 7: Build a simple feedforward neural network using Keras. The network should:\n",
    "# -Have 2 hidden layers with 64 neurons each.\n",
    "# -Use ReLU as the activation function for the hidden layers.\n",
    "# -Use the sigmoid activation function for the output layer.\n",
    "# -Compile the model with binary cross-entropy loss and the Adam optimizer.\n",
    "\n",
    "keras_feed_forward = tf.keras.models.Sequential([\n",
    "    tf.keras.layers.Input(shape=(4,)),\n",
    "    tf.keras.layers.Dense(64, activation='relu'),\n",
    "    tf.keras.layers.Dense(64, activation='relu'),\n",
    "    tf.keras.layers.Dense(1, activation='sigmoid')\n",
    "])\n",
    "\n",
    "keras_feed_forward.compile(optimizer='adam', loss='binary_crossentropy', metrics=['accuracy'])"
   ]
  },
  {
   "cell_type": "code",
   "execution_count": 10,
   "metadata": {},
   "outputs": [
    {
     "name": "stdout",
     "output_type": "stream",
     "text": [
      "['setosa' 'versicolor' 'virginica']\n",
      "['sepal length (cm)', 'sepal width (cm)', 'petal length (cm)', 'petal width (cm)']\n",
      "[0 0 0 0 0 0 0 0 0 0 0 0 0 0 0 0 0 0 0 0 0 0 0 0 0 0 0 0 0 0 0 0 0 0 0 0 0\n",
      " 0 0 0 0 0 0 0 0 0 0 0 0 0 1 1 1 1 1 1 1 1 1 1 1 1 1 1 1 1 1 1 1 1 1 1 1 1\n",
      " 1 1 1 1 1 1 1 1 1 1 1 1 1 1 1 1 1 1 1 1 1 1 1 1 1 1 2 2 2 2 2 2 2 2 2 2 2\n",
      " 2 2 2 2 2 2 2 2 2 2 2 2 2 2 2 2 2 2 2 2 2 2 2 2 2 2 2 2 2 2 2 2 2 2 2 2 2\n",
      " 2 2]\n",
      "Epoch 1/50\n",
      "\u001b[1m4/4\u001b[0m \u001b[32m━━━━━━━━━━━━━━━━━━━━\u001b[0m\u001b[37m\u001b[0m \u001b[1m1s\u001b[0m 56ms/step - accuracy: 0.0819 - loss: 0.7812 - val_accuracy: 0.4000 - val_loss: 0.7025\n",
      "Epoch 2/50\n",
      "\u001b[1m4/4\u001b[0m \u001b[32m━━━━━━━━━━━━━━━━━━━━\u001b[0m\u001b[37m\u001b[0m \u001b[1m0s\u001b[0m 10ms/step - accuracy: 0.4785 - loss: 0.6909 - val_accuracy: 0.8667 - val_loss: 0.6168\n",
      "Epoch 3/50\n",
      "\u001b[1m4/4\u001b[0m \u001b[32m━━━━━━━━━━━━━━━━━━━━\u001b[0m\u001b[37m\u001b[0m \u001b[1m0s\u001b[0m 10ms/step - accuracy: 0.9510 - loss: 0.6013 - val_accuracy: 1.0000 - val_loss: 0.5398\n",
      "Epoch 4/50\n",
      "\u001b[1m4/4\u001b[0m \u001b[32m━━━━━━━━━━━━━━━━━━━━\u001b[0m\u001b[37m\u001b[0m \u001b[1m0s\u001b[0m 10ms/step - accuracy: 0.9967 - loss: 0.5308 - val_accuracy: 1.0000 - val_loss: 0.4724\n",
      "Epoch 5/50\n",
      "\u001b[1m4/4\u001b[0m \u001b[32m━━━━━━━━━━━━━━━━━━━━\u001b[0m\u001b[37m\u001b[0m \u001b[1m0s\u001b[0m 10ms/step - accuracy: 1.0000 - loss: 0.4745 - val_accuracy: 1.0000 - val_loss: 0.4131\n",
      "Epoch 6/50\n",
      "\u001b[1m4/4\u001b[0m \u001b[32m━━━━━━━━━━━━━━━━━━━━\u001b[0m\u001b[37m\u001b[0m \u001b[1m0s\u001b[0m 10ms/step - accuracy: 1.0000 - loss: 0.4111 - val_accuracy: 1.0000 - val_loss: 0.3587\n",
      "Epoch 7/50\n",
      "\u001b[1m4/4\u001b[0m \u001b[32m━━━━━━━━━━━━━━━━━━━━\u001b[0m\u001b[37m\u001b[0m \u001b[1m0s\u001b[0m 10ms/step - accuracy: 1.0000 - loss: 0.3502 - val_accuracy: 1.0000 - val_loss: 0.3089\n",
      "Epoch 8/50\n",
      "\u001b[1m4/4\u001b[0m \u001b[32m━━━━━━━━━━━━━━━━━━━━\u001b[0m\u001b[37m\u001b[0m \u001b[1m0s\u001b[0m 14ms/step - accuracy: 1.0000 - loss: 0.3135 - val_accuracy: 1.0000 - val_loss: 0.2642\n",
      "Epoch 9/50\n",
      "\u001b[1m4/4\u001b[0m \u001b[32m━━━━━━━━━━━━━━━━━━━━\u001b[0m\u001b[37m\u001b[0m \u001b[1m0s\u001b[0m 11ms/step - accuracy: 1.0000 - loss: 0.2628 - val_accuracy: 1.0000 - val_loss: 0.2245\n",
      "Epoch 10/50\n",
      "\u001b[1m4/4\u001b[0m \u001b[32m━━━━━━━━━━━━━━━━━━━━\u001b[0m\u001b[37m\u001b[0m \u001b[1m0s\u001b[0m 11ms/step - accuracy: 1.0000 - loss: 0.2241 - val_accuracy: 1.0000 - val_loss: 0.1896\n",
      "Epoch 11/50\n",
      "\u001b[1m4/4\u001b[0m \u001b[32m━━━━━━━━━━━━━━━━━━━━\u001b[0m\u001b[37m\u001b[0m \u001b[1m0s\u001b[0m 11ms/step - accuracy: 1.0000 - loss: 0.1857 - val_accuracy: 1.0000 - val_loss: 0.1592\n",
      "Epoch 12/50\n",
      "\u001b[1m4/4\u001b[0m \u001b[32m━━━━━━━━━━━━━━━━━━━━\u001b[0m\u001b[37m\u001b[0m \u001b[1m0s\u001b[0m 10ms/step - accuracy: 1.0000 - loss: 0.1546 - val_accuracy: 1.0000 - val_loss: 0.1335\n",
      "Epoch 13/50\n",
      "\u001b[1m4/4\u001b[0m \u001b[32m━━━━━━━━━━━━━━━━━━━━\u001b[0m\u001b[37m\u001b[0m \u001b[1m0s\u001b[0m 20ms/step - accuracy: 1.0000 - loss: 0.1355 - val_accuracy: 1.0000 - val_loss: 0.1118\n",
      "Epoch 14/50\n",
      "\u001b[1m4/4\u001b[0m \u001b[32m━━━━━━━━━━━━━━━━━━━━\u001b[0m\u001b[37m\u001b[0m \u001b[1m0s\u001b[0m 11ms/step - accuracy: 1.0000 - loss: 0.1179 - val_accuracy: 1.0000 - val_loss: 0.0937\n",
      "Epoch 15/50\n",
      "\u001b[1m4/4\u001b[0m \u001b[32m━━━━━━━━━━━━━━━━━━━━\u001b[0m\u001b[37m\u001b[0m \u001b[1m0s\u001b[0m 12ms/step - accuracy: 1.0000 - loss: 0.0969 - val_accuracy: 1.0000 - val_loss: 0.0790\n",
      "Epoch 16/50\n",
      "\u001b[1m4/4\u001b[0m \u001b[32m━━━━━━━━━━━━━━━━━━━━\u001b[0m\u001b[37m\u001b[0m \u001b[1m0s\u001b[0m 10ms/step - accuracy: 1.0000 - loss: 0.0854 - val_accuracy: 1.0000 - val_loss: 0.0668\n",
      "Epoch 17/50\n",
      "\u001b[1m4/4\u001b[0m \u001b[32m━━━━━━━━━━━━━━━━━━━━\u001b[0m\u001b[37m\u001b[0m \u001b[1m0s\u001b[0m 11ms/step - accuracy: 1.0000 - loss: 0.0711 - val_accuracy: 1.0000 - val_loss: 0.0569\n",
      "Epoch 18/50\n",
      "\u001b[1m4/4\u001b[0m \u001b[32m━━━━━━━━━━━━━━━━━━━━\u001b[0m\u001b[37m\u001b[0m \u001b[1m0s\u001b[0m 11ms/step - accuracy: 1.0000 - loss: 0.0558 - val_accuracy: 1.0000 - val_loss: 0.0488\n",
      "Epoch 19/50\n",
      "\u001b[1m4/4\u001b[0m \u001b[32m━━━━━━━━━━━━━━━━━━━━\u001b[0m\u001b[37m\u001b[0m \u001b[1m0s\u001b[0m 10ms/step - accuracy: 1.0000 - loss: 0.0520 - val_accuracy: 1.0000 - val_loss: 0.0422\n",
      "Epoch 20/50\n",
      "\u001b[1m4/4\u001b[0m \u001b[32m━━━━━━━━━━━━━━━━━━━━\u001b[0m\u001b[37m\u001b[0m \u001b[1m0s\u001b[0m 11ms/step - accuracy: 1.0000 - loss: 0.0427 - val_accuracy: 1.0000 - val_loss: 0.0368\n",
      "Epoch 21/50\n",
      "\u001b[1m4/4\u001b[0m \u001b[32m━━━━━━━━━━━━━━━━━━━━\u001b[0m\u001b[37m\u001b[0m \u001b[1m0s\u001b[0m 11ms/step - accuracy: 1.0000 - loss: 0.0371 - val_accuracy: 1.0000 - val_loss: 0.0323\n",
      "Epoch 22/50\n",
      "\u001b[1m4/4\u001b[0m \u001b[32m━━━━━━━━━━━━━━━━━━━━\u001b[0m\u001b[37m\u001b[0m \u001b[1m0s\u001b[0m 11ms/step - accuracy: 1.0000 - loss: 0.0352 - val_accuracy: 1.0000 - val_loss: 0.0285\n",
      "Epoch 23/50\n",
      "\u001b[1m4/4\u001b[0m \u001b[32m━━━━━━━━━━━━━━━━━━━━\u001b[0m\u001b[37m\u001b[0m \u001b[1m0s\u001b[0m 10ms/step - accuracy: 1.0000 - loss: 0.0330 - val_accuracy: 1.0000 - val_loss: 0.0253\n",
      "Epoch 24/50\n",
      "\u001b[1m4/4\u001b[0m \u001b[32m━━━━━━━━━━━━━━━━━━━━\u001b[0m\u001b[37m\u001b[0m \u001b[1m0s\u001b[0m 10ms/step - accuracy: 1.0000 - loss: 0.0241 - val_accuracy: 1.0000 - val_loss: 0.0227\n",
      "Epoch 25/50\n",
      "\u001b[1m4/4\u001b[0m \u001b[32m━━━━━━━━━━━━━━━━━━━━\u001b[0m\u001b[37m\u001b[0m \u001b[1m0s\u001b[0m 10ms/step - accuracy: 1.0000 - loss: 0.0244 - val_accuracy: 1.0000 - val_loss: 0.0205\n",
      "Epoch 26/50\n",
      "\u001b[1m4/4\u001b[0m \u001b[32m━━━━━━━━━━━━━━━━━━━━\u001b[0m\u001b[37m\u001b[0m \u001b[1m0s\u001b[0m 11ms/step - accuracy: 1.0000 - loss: 0.0210 - val_accuracy: 1.0000 - val_loss: 0.0186\n",
      "Epoch 27/50\n",
      "\u001b[1m4/4\u001b[0m \u001b[32m━━━━━━━━━━━━━━━━━━━━\u001b[0m\u001b[37m\u001b[0m \u001b[1m0s\u001b[0m 11ms/step - accuracy: 1.0000 - loss: 0.0170 - val_accuracy: 1.0000 - val_loss: 0.0169\n",
      "Epoch 28/50\n",
      "\u001b[1m4/4\u001b[0m \u001b[32m━━━━━━━━━━━━━━━━━━━━\u001b[0m\u001b[37m\u001b[0m \u001b[1m0s\u001b[0m 11ms/step - accuracy: 1.0000 - loss: 0.0165 - val_accuracy: 1.0000 - val_loss: 0.0155\n",
      "Epoch 29/50\n",
      "\u001b[1m4/4\u001b[0m \u001b[32m━━━━━━━━━━━━━━━━━━━━\u001b[0m\u001b[37m\u001b[0m \u001b[1m0s\u001b[0m 15ms/step - accuracy: 1.0000 - loss: 0.0165 - val_accuracy: 1.0000 - val_loss: 0.0142\n",
      "Epoch 30/50\n",
      "\u001b[1m4/4\u001b[0m \u001b[32m━━━━━━━━━━━━━━━━━━━━\u001b[0m\u001b[37m\u001b[0m \u001b[1m0s\u001b[0m 10ms/step - accuracy: 1.0000 - loss: 0.0134 - val_accuracy: 1.0000 - val_loss: 0.0132\n",
      "Epoch 31/50\n",
      "\u001b[1m4/4\u001b[0m \u001b[32m━━━━━━━━━━━━━━━━━━━━\u001b[0m\u001b[37m\u001b[0m \u001b[1m0s\u001b[0m 10ms/step - accuracy: 1.0000 - loss: 0.0118 - val_accuracy: 1.0000 - val_loss: 0.0122\n",
      "Epoch 32/50\n",
      "\u001b[1m4/4\u001b[0m \u001b[32m━━━━━━━━━━━━━━━━━━━━\u001b[0m\u001b[37m\u001b[0m \u001b[1m0s\u001b[0m 11ms/step - accuracy: 1.0000 - loss: 0.0107 - val_accuracy: 1.0000 - val_loss: 0.0113\n",
      "Epoch 33/50\n",
      "\u001b[1m4/4\u001b[0m \u001b[32m━━━━━━━━━━━━━━━━━━━━\u001b[0m\u001b[37m\u001b[0m \u001b[1m0s\u001b[0m 11ms/step - accuracy: 1.0000 - loss: 0.0125 - val_accuracy: 1.0000 - val_loss: 0.0105\n",
      "Epoch 34/50\n",
      "\u001b[1m4/4\u001b[0m \u001b[32m━━━━━━━━━━━━━━━━━━━━\u001b[0m\u001b[37m\u001b[0m \u001b[1m0s\u001b[0m 11ms/step - accuracy: 1.0000 - loss: 0.0113 - val_accuracy: 1.0000 - val_loss: 0.0098\n",
      "Epoch 35/50\n",
      "\u001b[1m4/4\u001b[0m \u001b[32m━━━━━━━━━━━━━━━━━━━━\u001b[0m\u001b[37m\u001b[0m \u001b[1m0s\u001b[0m 11ms/step - accuracy: 1.0000 - loss: 0.0106 - val_accuracy: 1.0000 - val_loss: 0.0092\n",
      "Epoch 36/50\n",
      "\u001b[1m4/4\u001b[0m \u001b[32m━━━━━━━━━━━━━━━━━━━━\u001b[0m\u001b[37m\u001b[0m \u001b[1m0s\u001b[0m 11ms/step - accuracy: 1.0000 - loss: 0.0111 - val_accuracy: 1.0000 - val_loss: 0.0086\n",
      "Epoch 37/50\n",
      "\u001b[1m4/4\u001b[0m \u001b[32m━━━━━━━━━━━━━━━━━━━━\u001b[0m\u001b[37m\u001b[0m \u001b[1m0s\u001b[0m 10ms/step - accuracy: 1.0000 - loss: 0.0071 - val_accuracy: 1.0000 - val_loss: 0.0081\n",
      "Epoch 38/50\n",
      "\u001b[1m4/4\u001b[0m \u001b[32m━━━━━━━━━━━━━━━━━━━━\u001b[0m\u001b[37m\u001b[0m \u001b[1m0s\u001b[0m 11ms/step - accuracy: 1.0000 - loss: 0.0089 - val_accuracy: 1.0000 - val_loss: 0.0076\n",
      "Epoch 39/50\n",
      "\u001b[1m4/4\u001b[0m \u001b[32m━━━━━━━━━━━━━━━━━━━━\u001b[0m\u001b[37m\u001b[0m \u001b[1m0s\u001b[0m 13ms/step - accuracy: 1.0000 - loss: 0.0067 - val_accuracy: 1.0000 - val_loss: 0.0072\n",
      "Epoch 40/50\n",
      "\u001b[1m4/4\u001b[0m \u001b[32m━━━━━━━━━━━━━━━━━━━━\u001b[0m\u001b[37m\u001b[0m \u001b[1m0s\u001b[0m 10ms/step - accuracy: 1.0000 - loss: 0.0072 - val_accuracy: 1.0000 - val_loss: 0.0068\n",
      "Epoch 41/50\n",
      "\u001b[1m4/4\u001b[0m \u001b[32m━━━━━━━━━━━━━━━━━━━━\u001b[0m\u001b[37m\u001b[0m \u001b[1m0s\u001b[0m 10ms/step - accuracy: 1.0000 - loss: 0.0061 - val_accuracy: 1.0000 - val_loss: 0.0064\n",
      "Epoch 42/50\n",
      "\u001b[1m4/4\u001b[0m \u001b[32m━━━━━━━━━━━━━━━━━━━━\u001b[0m\u001b[37m\u001b[0m \u001b[1m0s\u001b[0m 10ms/step - accuracy: 1.0000 - loss: 0.0070 - val_accuracy: 1.0000 - val_loss: 0.0061\n",
      "Epoch 43/50\n",
      "\u001b[1m4/4\u001b[0m \u001b[32m━━━━━━━━━━━━━━━━━━━━\u001b[0m\u001b[37m\u001b[0m \u001b[1m0s\u001b[0m 11ms/step - accuracy: 1.0000 - loss: 0.0057 - val_accuracy: 1.0000 - val_loss: 0.0057\n",
      "Epoch 44/50\n",
      "\u001b[1m4/4\u001b[0m \u001b[32m━━━━━━━━━━━━━━━━━━━━\u001b[0m\u001b[37m\u001b[0m \u001b[1m0s\u001b[0m 11ms/step - accuracy: 1.0000 - loss: 0.0052 - val_accuracy: 1.0000 - val_loss: 0.0055\n",
      "Epoch 45/50\n",
      "\u001b[1m4/4\u001b[0m \u001b[32m━━━━━━━━━━━━━━━━━━━━\u001b[0m\u001b[37m\u001b[0m \u001b[1m0s\u001b[0m 10ms/step - accuracy: 1.0000 - loss: 0.0053 - val_accuracy: 1.0000 - val_loss: 0.0052\n",
      "Epoch 46/50\n",
      "\u001b[1m4/4\u001b[0m \u001b[32m━━━━━━━━━━━━━━━━━━━━\u001b[0m\u001b[37m\u001b[0m \u001b[1m0s\u001b[0m 10ms/step - accuracy: 1.0000 - loss: 0.0054 - val_accuracy: 1.0000 - val_loss: 0.0049\n",
      "Epoch 47/50\n",
      "\u001b[1m4/4\u001b[0m \u001b[32m━━━━━━━━━━━━━━━━━━━━\u001b[0m\u001b[37m\u001b[0m \u001b[1m0s\u001b[0m 11ms/step - accuracy: 1.0000 - loss: 0.0051 - val_accuracy: 1.0000 - val_loss: 0.0047\n",
      "Epoch 48/50\n",
      "\u001b[1m4/4\u001b[0m \u001b[32m━━━━━━━━━━━━━━━━━━━━\u001b[0m\u001b[37m\u001b[0m \u001b[1m0s\u001b[0m 11ms/step - accuracy: 1.0000 - loss: 0.0041 - val_accuracy: 1.0000 - val_loss: 0.0045\n",
      "Epoch 49/50\n",
      "\u001b[1m4/4\u001b[0m \u001b[32m━━━━━━━━━━━━━━━━━━━━\u001b[0m\u001b[37m\u001b[0m \u001b[1m0s\u001b[0m 12ms/step - accuracy: 1.0000 - loss: 0.0043 - val_accuracy: 1.0000 - val_loss: 0.0043\n",
      "Epoch 50/50\n",
      "\u001b[1m4/4\u001b[0m \u001b[32m━━━━━━━━━━━━━━━━━━━━\u001b[0m\u001b[37m\u001b[0m \u001b[1m0s\u001b[0m 11ms/step - accuracy: 1.0000 - loss: 0.0047 - val_accuracy: 1.0000 - val_loss: 0.0041\n",
      "\u001b[1m4/4\u001b[0m \u001b[32m━━━━━━━━━━━━━━━━━━━━\u001b[0m\u001b[37m\u001b[0m \u001b[1m0s\u001b[0m 2ms/step - accuracy: 1.0000 - loss: 0.0040 \n",
      "Train score: [0.0040977424941957, 1.0]\n",
      "\u001b[1m1/1\u001b[0m \u001b[32m━━━━━━━━━━━━━━━━━━━━\u001b[0m\u001b[37m\u001b[0m \u001b[1m0s\u001b[0m 27ms/step - accuracy: 1.0000 - loss: 0.0041\n",
      "Test score: [0.004121600650250912, 1.0]\n"
     ]
    }
   ],
   "source": [
    "# Problem 8: Train the neural network from Problem 7 using the Iris datset. Preprocess the data by converting the target\n",
    "# labels to binary (1 for class setosa, 0 for the other classes). Use 20% of the data for validation and train the model\n",
    "# for 50 epochs.\n",
    "\n",
    "# Load the Iris dataset and preprocess data by setting target labels to binary {0,1}.\n",
    "iris_data = load_iris()\n",
    "iris_data.data.shape\n",
    "print(iris_data.target_names)\n",
    "print(iris_data.feature_names)\n",
    "print(iris_data.target)\n",
    "\n",
    "iris_df = pd.DataFrame(data=iris_data.data, columns=iris_data.feature_names)\n",
    "iris_df['target'] = iris_data.target\n",
    "iris_df['binary_target'] = iris_df['target'].apply(lambda x: 1 if x == 0 else 0)\n",
    "\n",
    "iris_df.head()\n",
    "\n",
    "# Create design matrix and target and standardize the design matrix.\n",
    "\n",
    "y_resp = iris_df.drop(['sepal length (cm)', 'sepal width (cm)', 'petal length (cm)', 'petal width (cm)', 'target'], axis=1)\n",
    "X_mat = iris_df.drop(['target', 'binary_target'], axis=1)\n",
    "\n",
    "scaler = StandardScaler()\n",
    "X_scaled = scaler.fit_transform(X_mat)\n",
    "\n",
    "#Split the Iris data into training and validation sets.\n",
    "\n",
    "X_train, X_test, y_train, y_test = train_test_split(X_scaled, y_resp, test_size=.20, shuffle=True, random_state=42)\n",
    "sample_size_iris, dimensions_iris = X_train.shape\n",
    "\n",
    "# Train the neural network model constructed in Problem 7 to the updated Iris dataset for 50 epochs.\n",
    "\n",
    "keras_feed_forward_iris = tf.keras.models.Sequential([\n",
    "    tf.keras.layers.Input(shape=(dimensions_iris,)),\n",
    "    tf.keras.layers.Dense(64, activation='relu'),\n",
    "    tf.keras.layers.Dense(64, activation='relu'),\n",
    "    tf.keras.layers.Dense(1, activation='sigmoid')\n",
    "])\n",
    "\n",
    "keras_feed_forward_iris.compile(optimizer='adam', loss='binary_crossentropy', metrics=['accuracy'])\n",
    "\n",
    "run_iris_nn = keras_feed_forward_iris.fit(X_train, y_train, validation_data=(X_test, y_test), epochs=50)\n",
    "print(\"Train score:\", keras_feed_forward_iris.evaluate(X_train, y_train))\n",
    "print(\"Test score:\", keras_feed_forward_iris.evaluate(X_test, y_test))\n"
   ]
  },
  {
   "cell_type": "code",
   "execution_count": 11,
   "metadata": {},
   "outputs": [
    {
     "data": {
      "text/plain": [
       "<matplotlib.legend.Legend at 0x1d69c0fe860>"
      ]
     },
     "execution_count": 11,
     "metadata": {},
     "output_type": "execute_result"
    },
    {
     "data": {
      "image/png": "[encoded data removed]",
      "text/plain": [
       "<Figure size 640x480 with 1 Axes>"
      ]
     },
     "metadata": {},
     "output_type": "display_data"
    }
   ],
   "source": [
    "# Problem 9: Evaluate the model's performance on the validation data using accuracy and plot the training and validation\n",
    "# loss over the epochs.\n",
    "\n",
    "# Plotting the accuracies\n",
    "\n",
    "plt.plot(run_iris_nn.history['accuracy'], label='accuracy')\n",
    "plt.plot(run_iris_nn.history['val_accuracy'], label='val_accuracy')\n",
    "plt.xlabel('Epochs')\n",
    "plt.ylabel('Accuracy')\n",
    "plt.legend()"
   ]
  },
  {
   "cell_type": "code",
   "execution_count": 12,
   "metadata": {},
   "outputs": [
    {
     "data": {
      "text/plain": [
       "<matplotlib.legend.Legend at 0x1d6a1b7fac0>"
      ]
     },
     "execution_count": 12,
     "metadata": {},
     "output_type": "execute_result"
    },
    {
     "data": {
      "image/png": "[encoded data removed]",
      "text/plain": [
       "<Figure size 640x480 with 1 Axes>"
      ]
     },
     "metadata": {},
     "output_type": "display_data"
    }
   ],
   "source": [
    "# Plotting the losses\n",
    "\n",
    "plt.plot(run_iris_nn.history['loss'], label='loss')\n",
    "plt.plot(run_iris_nn.history['val_loss'], label='val_loss')\n",
    "plt.xlabel('Epochs')\n",
    "plt.ylabel('Loss')\n",
    "plt.legend()"
   ]
  }
 ],
 "metadata": {
  "kernelspec": {
   "display_name": "Python 3 (ipykernel)",
   "language": "python",
   "name": "python3"
  },
  "language_info": {
   "codemirror_mode": {
    "name": "ipython",
    "version": 3
   },
   "file_extension": ".py",
   "mimetype": "text/x-python",
   "name": "python",
   "nbconvert_exporter": "python",
   "pygments_lexer": "ipython3",
   "version": "3.11.9"
  }
 },
 "nbformat": 4,
 "nbformat_minor": 4
}
