{
 "cells": [
  {
   "cell_type": "code",
   "execution_count": 1,
   "metadata": {},
   "outputs": [],
   "source": [
    "import tensorflow as tf\n",
    "import keras as keras\n",
    "import pandas as pd\n",
    "import matplotlib.pyplot as plt\n",
    "import numpy as np\n",
    "from keras.datasets import boston_housing\n",
    "from sklearn.datasets import load_diabetes, load_iris\n",
    "from sklearn.model_selection import train_test_split\n",
    "from sklearn.preprocessing import StandardScaler, OneHotEncoder\n",
    "from tensorflow.keras.regularizers import l1_l2"
   ]
  },
  {
   "cell_type": "code",
   "execution_count": 16,
   "metadata": {},
   "outputs": [],
   "source": [
    "import lifelines\n",
    "from sksurv.datasets import load_whas500\n",
    "from sksurv.metrics import concordance_index_censored"
   ]
  },
  {
   "cell_type": "markdown",
   "metadata": {},
   "source": [
    "Boston Housing Dataset Example"
   ]
  },
  {
   "cell_type": "code",
   "execution_count": 3,
   "metadata": {},
   "outputs": [
    {
     "name": "stdout",
     "output_type": "stream",
     "text": [
      "Downloading data from https://storage.googleapis.com/tensorflow/tf-keras-datasets/boston_housing.npz\n",
      "\u001b[1m57026/57026\u001b[0m \u001b[32m━━━━━━━━━━━━━━━━━━━━\u001b[0m\u001b[37m\u001b[0m \u001b[1m0s\u001b[0m 0us/step\n"
     ]
    }
   ],
   "source": [
    "(train_data, train_targets), (test_data, test_targets) = boston_housing.load_data()"
   ]
  },
  {
   "cell_type": "code",
   "execution_count": 4,
   "metadata": {},
   "outputs": [
    {
     "name": "stdout",
     "output_type": "stream",
     "text": [
      "(404, 13)\n",
      "(102, 13)\n"
     ]
    }
   ],
   "source": [
    "print(train_data.shape)\n",
    "print(test_data.shape)"
   ]
  },
  {
   "cell_type": "code",
   "execution_count": 5,
   "metadata": {},
   "outputs": [
    {
     "data": {
      "text/html": [
       "<div>\n",
       "<style scoped>\n",
       "    .dataframe tbody tr th:only-of-type {\n",
       "        vertical-align: middle;\n",
       "    }\n",
       "\n",
       "    .dataframe tbody tr th {\n",
       "        vertical-align: top;\n",
       "    }\n",
       "\n",
       "    .dataframe thead th {\n",
       "        text-align: right;\n",
       "    }\n",
       "</style>\n",
       "<table border=\"1\" class=\"dataframe\">\n",
       "  <thead>\n",
       "    <tr style=\"text-align: right;\">\n",
       "      <th></th>\n",
       "      <th>0</th>\n",
       "      <th>1</th>\n",
       "      <th>2</th>\n",
       "      <th>3</th>\n",
       "      <th>4</th>\n",
       "      <th>5</th>\n",
       "      <th>6</th>\n",
       "      <th>7</th>\n",
       "      <th>8</th>\n",
       "      <th>9</th>\n",
       "      <th>10</th>\n",
       "      <th>11</th>\n",
       "      <th>12</th>\n",
       "    </tr>\n",
       "  </thead>\n",
       "  <tbody>\n",
       "    <tr>\n",
       "      <th>0</th>\n",
       "      <td>1.23247</td>\n",
       "      <td>0.0</td>\n",
       "      <td>8.14</td>\n",
       "      <td>0.0</td>\n",
       "      <td>0.538</td>\n",
       "      <td>6.142</td>\n",
       "      <td>91.7</td>\n",
       "      <td>3.9769</td>\n",
       "      <td>4.0</td>\n",
       "      <td>307.0</td>\n",
       "      <td>21.0</td>\n",
       "      <td>396.90</td>\n",
       "      <td>18.72</td>\n",
       "    </tr>\n",
       "    <tr>\n",
       "      <th>1</th>\n",
       "      <td>0.02177</td>\n",
       "      <td>82.5</td>\n",
       "      <td>2.03</td>\n",
       "      <td>0.0</td>\n",
       "      <td>0.415</td>\n",
       "      <td>7.610</td>\n",
       "      <td>15.7</td>\n",
       "      <td>6.2700</td>\n",
       "      <td>2.0</td>\n",
       "      <td>348.0</td>\n",
       "      <td>14.7</td>\n",
       "      <td>395.38</td>\n",
       "      <td>3.11</td>\n",
       "    </tr>\n",
       "    <tr>\n",
       "      <th>2</th>\n",
       "      <td>4.89822</td>\n",
       "      <td>0.0</td>\n",
       "      <td>18.10</td>\n",
       "      <td>0.0</td>\n",
       "      <td>0.631</td>\n",
       "      <td>4.970</td>\n",
       "      <td>100.0</td>\n",
       "      <td>1.3325</td>\n",
       "      <td>24.0</td>\n",
       "      <td>666.0</td>\n",
       "      <td>20.2</td>\n",
       "      <td>375.52</td>\n",
       "      <td>3.26</td>\n",
       "    </tr>\n",
       "    <tr>\n",
       "      <th>3</th>\n",
       "      <td>0.03961</td>\n",
       "      <td>0.0</td>\n",
       "      <td>5.19</td>\n",
       "      <td>0.0</td>\n",
       "      <td>0.515</td>\n",
       "      <td>6.037</td>\n",
       "      <td>34.5</td>\n",
       "      <td>5.9853</td>\n",
       "      <td>5.0</td>\n",
       "      <td>224.0</td>\n",
       "      <td>20.2</td>\n",
       "      <td>396.90</td>\n",
       "      <td>8.01</td>\n",
       "    </tr>\n",
       "    <tr>\n",
       "      <th>4</th>\n",
       "      <td>3.69311</td>\n",
       "      <td>0.0</td>\n",
       "      <td>18.10</td>\n",
       "      <td>0.0</td>\n",
       "      <td>0.713</td>\n",
       "      <td>6.376</td>\n",
       "      <td>88.4</td>\n",
       "      <td>2.5671</td>\n",
       "      <td>24.0</td>\n",
       "      <td>666.0</td>\n",
       "      <td>20.2</td>\n",
       "      <td>391.43</td>\n",
       "      <td>14.65</td>\n",
       "    </tr>\n",
       "  </tbody>\n",
       "</table>\n",
       "</div>"
      ],
      "text/plain": [
       "        0     1      2    3      4      5      6       7     8      9     10  \\\n",
       "0  1.23247   0.0   8.14  0.0  0.538  6.142   91.7  3.9769   4.0  307.0  21.0   \n",
       "1  0.02177  82.5   2.03  0.0  0.415  7.610   15.7  6.2700   2.0  348.0  14.7   \n",
       "2  4.89822   0.0  18.10  0.0  0.631  4.970  100.0  1.3325  24.0  666.0  20.2   \n",
       "3  0.03961   0.0   5.19  0.0  0.515  6.037   34.5  5.9853   5.0  224.0  20.2   \n",
       "4  3.69311   0.0  18.10  0.0  0.713  6.376   88.4  2.5671  24.0  666.0  20.2   \n",
       "\n",
       "       11     12  \n",
       "0  396.90  18.72  \n",
       "1  395.38   3.11  \n",
       "2  375.52   3.26  \n",
       "3  396.90   8.01  \n",
       "4  391.43  14.65  "
      ]
     },
     "execution_count": 5,
     "metadata": {},
     "output_type": "execute_result"
    }
   ],
   "source": [
    "train_data_df = pd.DataFrame(train_data)\n",
    "train_data_df.head()"
   ]
  },
  {
   "cell_type": "code",
   "execution_count": 6,
   "metadata": {},
   "outputs": [
    {
     "data": {
      "text/plain": [
       "array([3.74511057e+00, 1.14801980e+01, 1.11044307e+01, 6.18811881e-02,\n",
       "       5.57355941e-01, 6.26708168e+00, 6.90106436e+01, 3.74027079e+00,\n",
       "       9.44059406e+00, 4.05898515e+02, 1.84759901e+01, 3.54783168e+02,\n",
       "       1.27408168e+01])"
      ]
     },
     "execution_count": 6,
     "metadata": {},
     "output_type": "execute_result"
    }
   ],
   "source": [
    "train_data.mean(axis=0)"
   ]
  },
  {
   "cell_type": "code",
   "execution_count": 7,
   "metadata": {},
   "outputs": [],
   "source": [
    "# Normalizing the data\n",
    "mean = train_data.mean(axis=0)  # obtain mean of each column\n",
    "# the parameter axis=0 is used to specify that the mean should be calculated column-wise (across the rows for each column) when normalizing the data. \n",
    "train_data -= mean # centralization\n",
    "std = train_data.std(axis=0)\n",
    "train_data /= std\n",
    "\n",
    "# Note that the quantities used for normalizing the test data are computed using the training data. \n",
    "# You should never use in your workflow any quantity computed on the test data.\n",
    "test_data -= mean\n",
    "test_data /= std"
   ]
  },
  {
   "cell_type": "code",
   "execution_count": 8,
   "metadata": {},
   "outputs": [],
   "source": [
    "def build_model():\n",
    "    model = tf.keras.models.Sequential()\n",
    "    model.add(tf.keras.layers.Dense(64, activation='relu',\n",
    "                           input_shape=(train_data.shape[1],)))\n",
    "    model.add(tf.keras.layers.Dense(64, activation='relu'))\n",
    "    model.add(tf.keras.layers.Dense(1))\n",
    "    \n",
    "    model.compile(optimizer='rmsprop', loss='mse', metrics=['mean_absolute_error']) # Mean absolute error\n",
    "    return model"
   ]
  },
  {
   "cell_type": "code",
   "execution_count": 9,
   "metadata": {},
   "outputs": [
    {
     "name": "stdout",
     "output_type": "stream",
     "text": [
      "404\n",
      "134\n",
      "Processing Fold  0\n"
     ]
    },
    {
     "name": "stderr",
     "output_type": "stream",
     "text": [
      "c:\\Users\\coryg\\AppData\\Local\\Programs\\Python\\Python310\\lib\\site-packages\\keras\\src\\layers\\core\\dense.py:87: UserWarning: Do not pass an `input_shape`/`input_dim` argument to a layer. When using Sequential models, prefer using an `Input(shape)` object as the first layer in the model instead.\n",
      "  super().__init__(activity_regularizer=activity_regularizer, **kwargs)\n"
     ]
    },
    {
     "name": "stdout",
     "output_type": "stream",
     "text": [
      "Processing Fold  1\n",
      "Processing Fold  2\n"
     ]
    }
   ],
   "source": [
    "# 3 Fold Cross Validation\n",
    "\n",
    "k = 3\n",
    "print(len(train_data))\n",
    "num_val_samples = len(train_data) // k\n",
    "print(num_val_samples)\n",
    "num_epochs = 100\n",
    "all_scores = []\n",
    "\n",
    "for i in range(k):\n",
    "    print('Processing Fold ', i)\n",
    "    val_data = train_data[i * num_val_samples: (i+1) * num_val_samples]\n",
    "    val_targets = train_targets[i * num_val_samples: (i+1) * num_val_samples]\n",
    "    partial_train_data = np.concatenate([train_data[:i * num_val_samples], train_data[(i+1) * num_val_samples:]], axis=0)\n",
    "    partial_train_targets = np.concatenate([train_targets[:i * num_val_samples], train_targets[(i+1) * num_val_samples:]], axis=0)\n",
    "\n",
    "    model = build_model()\n",
    "    model.fit(partial_train_data, partial_train_targets,epochs=num_epochs, batch_size=1, verbose=0)\n",
    "    val_mse, val_mae = model.evaluate(val_data, val_targets, verbose=0)\n",
    "    all_scores.append(val_mae)"
   ]
  },
  {
   "cell_type": "code",
   "execution_count": 10,
   "metadata": {},
   "outputs": [
    {
     "name": "stdout",
     "output_type": "stream",
     "text": [
      "[2.676415205001831, 2.295450210571289, 2.4999241828918457]\n",
      "2.4905965328216553\n"
     ]
    },
    {
     "data": {
      "text/plain": [
       "0.15566809893111191"
      ]
     },
     "execution_count": 10,
     "metadata": {},
     "output_type": "execute_result"
    }
   ],
   "source": [
    "print(all_scores)\n",
    "print(np.mean(all_scores))\n",
    "np.std(all_scores)"
   ]
  },
  {
   "cell_type": "code",
   "execution_count": 11,
   "metadata": {},
   "outputs": [
    {
     "name": "stdout",
     "output_type": "stream",
     "text": [
      "processing fold # 0\n"
     ]
    },
    {
     "name": "stderr",
     "output_type": "stream",
     "text": [
      "c:\\Users\\coryg\\AppData\\Local\\Programs\\Python\\Python310\\lib\\site-packages\\keras\\src\\layers\\core\\dense.py:87: UserWarning: Do not pass an `input_shape`/`input_dim` argument to a layer. When using Sequential models, prefer using an `Input(shape)` object as the first layer in the model instead.\n",
      "  super().__init__(activity_regularizer=activity_regularizer, **kwargs)\n"
     ]
    },
    {
     "name": "stdout",
     "output_type": "stream",
     "text": [
      "processing fold # 1\n",
      "processing fold # 2\n"
     ]
    }
   ],
   "source": [
    "num_epochs = 500\n",
    "all_mae_histories = []\n",
    "\n",
    "for i in range(k):\n",
    "    print('processing fold #', i)\n",
    "    # Prepares the validation data: data from partition #k\n",
    "    val_data = train_data[i * num_val_samples: (i + 1) * num_val_samples]\n",
    "    val_targets = train_targets[i * num_val_samples: (i + 1) * num_val_samples]\n",
    "\n",
    "    # Prepares the training data: data from all other partitions\n",
    "    partial_train_data = np.concatenate([train_data[:i * num_val_samples], train_data[(i + 1) * num_val_samples:]], axis=0)\n",
    "    # When axis=0, the function concatenates arrays vertically (i.e., by stacking rows one after the other). \n",
    "    partial_train_targets = np.concatenate([train_targets[:i * num_val_samples], train_targets[(i + 1) * num_val_samples:]], axis=0)\n",
    "\n",
    "    model = build_model() # already defined in the above cell #128\n",
    "    history = model.fit(partial_train_data, partial_train_targets,\n",
    "                        validation_data=(val_data, val_targets),\n",
    "                        epochs=num_epochs, batch_size=1, verbose=0)\n",
    "    # verbose=0 means that no output will be printed during the training process\n",
    "    mae_history = history.history['val_mean_absolute_error']\n",
    "    all_mae_histories.append(mae_history)"
   ]
  },
  {
   "cell_type": "code",
   "execution_count": 12,
   "metadata": {},
   "outputs": [],
   "source": [
    "average_mae_history = [np.mean([x[i] for x in all_mae_histories]) for i in range(num_epochs)]"
   ]
  },
  {
   "cell_type": "code",
   "execution_count": 13,
   "metadata": {},
   "outputs": [
    {
     "data": {
      "image/png": "[encoded data removed]",
      "text/plain": [
       "<Figure size 640x480 with 1 Axes>"
      ]
     },
     "metadata": {},
     "output_type": "display_data"
    }
   ],
   "source": [
    "plt.plot(range(1, len(average_mae_history) + 1), average_mae_history)\n",
    "plt.xlabel('Epochs')\n",
    "plt.ylabel('Validation MAE')\n",
    "plt.show()"
   ]
  },
  {
   "cell_type": "code",
   "execution_count": 14,
   "metadata": {},
   "outputs": [],
   "source": [
    "def smooth_curve(points, factor=0.9):\n",
    "    smoothed_points = []\n",
    "    for point in points:\n",
    "        if smoothed_points:\n",
    "            previous = smoothed_points[-1]\n",
    "            smoothed_points.append(previous * factor + point * (1 - factor))\n",
    "        else:\n",
    "            smoothed_points.append(point)\n",
    "    return smoothed_points"
   ]
  },
  {
   "cell_type": "code",
   "execution_count": 15,
   "metadata": {},
   "outputs": [],
   "source": [
    "smooth_mae_history = smooth_curve(average_mae_history[10:])"
   ]
  },
  {
   "cell_type": "code",
   "execution_count": 16,
   "metadata": {},
   "outputs": [
    {
     "data": {
      "image/png": "[encoded data removed]",
      "text/plain": [
       "<Figure size 640x480 with 1 Axes>"
      ]
     },
     "metadata": {},
     "output_type": "display_data"
    }
   ],
   "source": [
    "plt.plot(range(1, len(smooth_mae_history)+1), smooth_mae_history)\n",
    "plt.xlabel('Epochs')\n",
    "plt.ylabel('Validation MAE')\n",
    "plt.show()"
   ]
  },
  {
   "cell_type": "code",
   "execution_count": 17,
   "metadata": {},
   "outputs": [
    {
     "name": "stderr",
     "output_type": "stream",
     "text": [
      "c:\\Users\\coryg\\AppData\\Local\\Programs\\Python\\Python310\\lib\\site-packages\\keras\\src\\layers\\core\\dense.py:87: UserWarning: Do not pass an `input_shape`/`input_dim` argument to a layer. When using Sequential models, prefer using an `Input(shape)` object as the first layer in the model instead.\n",
      "  super().__init__(activity_regularizer=activity_regularizer, **kwargs)\n"
     ]
    },
    {
     "name": "stdout",
     "output_type": "stream",
     "text": [
      "\u001b[1m4/4\u001b[0m \u001b[32m━━━━━━━━━━━━━━━━━━━━\u001b[0m\u001b[37m\u001b[0m \u001b[1m0s\u001b[0m 3ms/step - loss: 12.5447 - mean_absolute_error: 2.3898\n",
      "2.599677562713623\n"
     ]
    }
   ],
   "source": [
    "model = build_model()\n",
    "model.fit(train_data, train_targets, epochs=80, batch_size=16, verbose=0)\n",
    "test_mse_score, test_mae_score = model.evaluate(test_data, test_targets)\n",
    "print(test_mae_score)"
   ]
  },
  {
   "cell_type": "code",
   "execution_count": 20,
   "metadata": {},
   "outputs": [
    {
     "name": "stdout",
     "output_type": "stream",
     "text": [
      "dict_keys(['data', 'target', 'frame', 'DESCR', 'feature_names', 'data_filename', 'target_filename', 'data_module'])\n",
      "(442, 10)\n",
      "(442,)\n"
     ]
    }
   ],
   "source": [
    "data = load_diabetes()\n",
    "print(data.keys())\n",
    "\n",
    "X = data.data\n",
    "y = data.target\n",
    "\n",
    "print(X.shape)\n",
    "print(y.shape)"
   ]
  },
  {
   "cell_type": "code",
   "execution_count": 24,
   "metadata": {},
   "outputs": [],
   "source": [
    "X_train, X_test, y_train, y_test = train_test_split(X, y, test_size=0.2, random_state=42)"
   ]
  },
  {
   "cell_type": "code",
   "execution_count": 25,
   "metadata": {},
   "outputs": [],
   "source": [
    "scaler = StandardScaler()\n",
    "X_train = scaler.fit_transform(X_train)\n",
    "X_test = scaler.transform(X_test)"
   ]
  },
  {
   "cell_type": "code",
   "execution_count": 28,
   "metadata": {},
   "outputs": [
    {
     "name": "stderr",
     "output_type": "stream",
     "text": [
      "c:\\Users\\coryg\\AppData\\Local\\Programs\\Python\\Python310\\lib\\site-packages\\keras\\src\\layers\\core\\dense.py:87: UserWarning: Do not pass an `input_shape`/`input_dim` argument to a layer. When using Sequential models, prefer using an `Input(shape)` object as the first layer in the model instead.\n",
      "  super().__init__(activity_regularizer=activity_regularizer, **kwargs)\n"
     ]
    }
   ],
   "source": [
    "def build_model_with_elastic_net():\n",
    "    model = tf.keras.Sequential([\n",
    "        tf.keras.layers.Dense(64, activation=\"relu\", input_shape=(X_train.shape[1],),\n",
    "                              kernel_regularizer= l1_l2(l1=0.001, l2=0.001)),\n",
    "\n",
    "        tf.keras.layers.Dense(64, activation = \"relu\", kernel_regularizer= l1_l2(l1=0.001, l2=0.001)),\n",
    "        tf.keras.layers.Dense(1, activation=\"linear\")\n",
    "        ])\n",
    "    model.compile(optimizer=\"Adam\",\n",
    "                  loss=\"mean_squared_error\",\n",
    "                  metrics=[\"mean_absolute_error\"])\n",
    "    return model\n",
    "\n",
    "model = build_model_with_elastic_net()"
   ]
  },
  {
   "cell_type": "code",
   "execution_count": 29,
   "metadata": {},
   "outputs": [
    {
     "name": "stdout",
     "output_type": "stream",
     "text": [
      "Epoch 1/50\n",
      "9/9 - 1s - 125ms/step - loss: 31402.7598 - mean_absolute_error: 158.3203 - val_loss: 22274.0859 - val_mean_absolute_error: 133.3634\n",
      "Epoch 2/50\n",
      "9/9 - 0s - 7ms/step - loss: 31169.3008 - mean_absolute_error: 157.5924 - val_loss: 22067.6836 - val_mean_absolute_error: 132.6123\n",
      "Epoch 3/50\n",
      "9/9 - 0s - 7ms/step - loss: 30889.4180 - mean_absolute_error: 156.7295 - val_loss: 21816.6328 - val_mean_absolute_error: 131.6964\n",
      "Epoch 4/50\n",
      "9/9 - 0s - 7ms/step - loss: 30532.0957 - mean_absolute_error: 155.6064 - val_loss: 21488.0039 - val_mean_absolute_error: 130.5028\n",
      "Epoch 5/50\n",
      "9/9 - 0s - 7ms/step - loss: 30039.8574 - mean_absolute_error: 154.1213 - val_loss: 21061.0898 - val_mean_absolute_error: 128.9409\n",
      "Epoch 6/50\n",
      "9/9 - 0s - 7ms/step - loss: 29391.2520 - mean_absolute_error: 152.1296 - val_loss: 20500.3828 - val_mean_absolute_error: 126.8843\n",
      "Epoch 7/50\n",
      "9/9 - 0s - 7ms/step - loss: 28546.3359 - mean_absolute_error: 149.5059 - val_loss: 19772.8594 - val_mean_absolute_error: 124.1928\n",
      "Epoch 8/50\n",
      "9/9 - 0s - 7ms/step - loss: 27448.9277 - mean_absolute_error: 146.0567 - val_loss: 18875.9551 - val_mean_absolute_error: 120.8258\n",
      "Epoch 9/50\n",
      "9/9 - 0s - 7ms/step - loss: 26006.6641 - mean_absolute_error: 141.5975 - val_loss: 17804.4375 - val_mean_absolute_error: 116.6691\n",
      "Epoch 10/50\n",
      "9/9 - 0s - 8ms/step - loss: 24396.7363 - mean_absolute_error: 136.1867 - val_loss: 16513.3047 - val_mean_absolute_error: 111.5173\n",
      "Epoch 11/50\n",
      "9/9 - 0s - 7ms/step - loss: 22327.1172 - mean_absolute_error: 129.3214 - val_loss: 15062.9521 - val_mean_absolute_error: 105.4694\n",
      "Epoch 12/50\n",
      "9/9 - 0s - 7ms/step - loss: 20049.7090 - mean_absolute_error: 121.3094 - val_loss: 13453.4824 - val_mean_absolute_error: 98.3145\n",
      "Epoch 13/50\n",
      "9/9 - 0s - 7ms/step - loss: 17632.1543 - mean_absolute_error: 112.2289 - val_loss: 11743.1113 - val_mean_absolute_error: 90.1385\n",
      "Epoch 14/50\n",
      "9/9 - 0s - 7ms/step - loss: 15043.6064 - mean_absolute_error: 101.9912 - val_loss: 10025.8926 - val_mean_absolute_error: 80.9981\n",
      "Epoch 15/50\n",
      "9/9 - 0s - 7ms/step - loss: 12581.3105 - mean_absolute_error: 91.0639 - val_loss: 8400.3594 - val_mean_absolute_error: 71.7174\n",
      "Epoch 16/50\n",
      "9/9 - 0s - 7ms/step - loss: 10352.7324 - mean_absolute_error: 81.0781 - val_loss: 6986.3716 - val_mean_absolute_error: 63.9656\n",
      "Epoch 17/50\n",
      "9/9 - 0s - 7ms/step - loss: 8591.7930 - mean_absolute_error: 72.3259 - val_loss: 5831.9004 - val_mean_absolute_error: 56.8389\n",
      "Epoch 18/50\n",
      "9/9 - 0s - 7ms/step - loss: 7243.9922 - mean_absolute_error: 65.5519 - val_loss: 5011.1978 - val_mean_absolute_error: 51.8698\n",
      "Epoch 19/50\n",
      "9/9 - 0s - 8ms/step - loss: 6291.6763 - mean_absolute_error: 61.1344 - val_loss: 4500.6406 - val_mean_absolute_error: 49.0289\n",
      "Epoch 20/50\n",
      "9/9 - 0s - 8ms/step - loss: 5757.9399 - mean_absolute_error: 58.7056 - val_loss: 4162.1978 - val_mean_absolute_error: 47.7064\n",
      "Epoch 21/50\n",
      "9/9 - 0s - 7ms/step - loss: 5413.8848 - mean_absolute_error: 57.3423 - val_loss: 3932.4155 - val_mean_absolute_error: 46.7762\n",
      "Epoch 22/50\n",
      "9/9 - 0s - 7ms/step - loss: 5138.6743 - mean_absolute_error: 56.0246 - val_loss: 3781.6973 - val_mean_absolute_error: 46.0537\n",
      "Epoch 23/50\n",
      "9/9 - 0s - 7ms/step - loss: 4922.6338 - mean_absolute_error: 55.1006 - val_loss: 3685.6968 - val_mean_absolute_error: 45.4757\n",
      "Epoch 24/50\n",
      "9/9 - 0s - 7ms/step - loss: 4741.4229 - mean_absolute_error: 54.1978 - val_loss: 3600.3940 - val_mean_absolute_error: 44.8425\n",
      "Epoch 25/50\n",
      "9/9 - 0s - 7ms/step - loss: 4598.5024 - mean_absolute_error: 53.5196 - val_loss: 3527.4548 - val_mean_absolute_error: 44.1677\n",
      "Epoch 26/50\n",
      "9/9 - 0s - 8ms/step - loss: 4450.7173 - mean_absolute_error: 52.6495 - val_loss: 3470.7046 - val_mean_absolute_error: 43.6837\n",
      "Epoch 27/50\n",
      "9/9 - 0s - 8ms/step - loss: 4330.2041 - mean_absolute_error: 51.9403 - val_loss: 3414.9341 - val_mean_absolute_error: 43.1862\n",
      "Epoch 28/50\n",
      "9/9 - 0s - 7ms/step - loss: 4215.2090 - mean_absolute_error: 51.2034 - val_loss: 3360.2712 - val_mean_absolute_error: 42.7678\n",
      "Epoch 29/50\n",
      "9/9 - 0s - 6ms/step - loss: 4128.7778 - mean_absolute_error: 50.6316 - val_loss: 3306.1917 - val_mean_absolute_error: 42.4152\n",
      "Epoch 30/50\n",
      "9/9 - 0s - 7ms/step - loss: 4037.2461 - mean_absolute_error: 49.9674 - val_loss: 3252.7268 - val_mean_absolute_error: 42.0377\n",
      "Epoch 31/50\n",
      "9/9 - 0s - 7ms/step - loss: 3957.6016 - mean_absolute_error: 49.4632 - val_loss: 3213.1887 - val_mean_absolute_error: 41.9320\n",
      "Epoch 32/50\n",
      "9/9 - 0s - 7ms/step - loss: 3874.8115 - mean_absolute_error: 48.9441 - val_loss: 3167.8450 - val_mean_absolute_error: 41.6843\n",
      "Epoch 33/50\n",
      "9/9 - 0s - 7ms/step - loss: 3805.4099 - mean_absolute_error: 48.4887 - val_loss: 3133.4590 - val_mean_absolute_error: 41.5199\n",
      "Epoch 34/50\n",
      "9/9 - 0s - 6ms/step - loss: 3736.6050 - mean_absolute_error: 48.0168 - val_loss: 3102.2522 - val_mean_absolute_error: 41.2959\n",
      "Epoch 35/50\n",
      "9/9 - 0s - 7ms/step - loss: 3675.5952 - mean_absolute_error: 47.5882 - val_loss: 3069.2502 - val_mean_absolute_error: 41.1609\n",
      "Epoch 36/50\n",
      "9/9 - 0s - 7ms/step - loss: 3624.8545 - mean_absolute_error: 47.2892 - val_loss: 3039.4346 - val_mean_absolute_error: 41.1056\n",
      "Epoch 37/50\n",
      "9/9 - 0s - 7ms/step - loss: 3569.1543 - mean_absolute_error: 46.8710 - val_loss: 3020.5745 - val_mean_absolute_error: 40.9890\n",
      "Epoch 38/50\n",
      "9/9 - 0s - 8ms/step - loss: 3519.6899 - mean_absolute_error: 46.6519 - val_loss: 2993.8047 - val_mean_absolute_error: 40.9609\n",
      "Epoch 39/50\n",
      "9/9 - 0s - 7ms/step - loss: 3471.1436 - mean_absolute_error: 46.3206 - val_loss: 2978.1309 - val_mean_absolute_error: 40.9554\n",
      "Epoch 40/50\n",
      "9/9 - 0s - 7ms/step - loss: 3424.4646 - mean_absolute_error: 46.0297 - val_loss: 2959.6672 - val_mean_absolute_error: 40.9473\n",
      "Epoch 41/50\n",
      "9/9 - 0s - 6ms/step - loss: 3382.0203 - mean_absolute_error: 45.7135 - val_loss: 2940.8701 - val_mean_absolute_error: 40.8847\n",
      "Epoch 42/50\n",
      "9/9 - 0s - 6ms/step - loss: 3344.1016 - mean_absolute_error: 45.4127 - val_loss: 2930.9600 - val_mean_absolute_error: 40.9379\n",
      "Epoch 43/50\n",
      "9/9 - 0s - 7ms/step - loss: 3304.8320 - mean_absolute_error: 45.1988 - val_loss: 2911.2620 - val_mean_absolute_error: 40.8976\n",
      "Epoch 44/50\n",
      "9/9 - 0s - 7ms/step - loss: 3270.7136 - mean_absolute_error: 44.9851 - val_loss: 2900.5181 - val_mean_absolute_error: 40.8885\n",
      "Epoch 45/50\n",
      "9/9 - 0s - 7ms/step - loss: 3243.5984 - mean_absolute_error: 44.7673 - val_loss: 2886.7046 - val_mean_absolute_error: 40.8164\n",
      "Epoch 46/50\n",
      "9/9 - 0s - 7ms/step - loss: 3214.9255 - mean_absolute_error: 44.6275 - val_loss: 2880.5637 - val_mean_absolute_error: 40.8777\n",
      "Epoch 47/50\n",
      "9/9 - 0s - 7ms/step - loss: 3185.6536 - mean_absolute_error: 44.4541 - val_loss: 2864.2917 - val_mean_absolute_error: 40.7591\n",
      "Epoch 48/50\n",
      "9/9 - 0s - 7ms/step - loss: 3158.8357 - mean_absolute_error: 44.2704 - val_loss: 2854.9595 - val_mean_absolute_error: 40.7077\n",
      "Epoch 49/50\n",
      "9/9 - 0s - 8ms/step - loss: 3139.0676 - mean_absolute_error: 44.1506 - val_loss: 2853.7310 - val_mean_absolute_error: 40.6662\n",
      "Epoch 50/50\n",
      "9/9 - 0s - 8ms/step - loss: 3109.5430 - mean_absolute_error: 43.9698 - val_loss: 2846.7666 - val_mean_absolute_error: 40.7563\n"
     ]
    }
   ],
   "source": [
    "history = model.fit(X_train, y_train, \n",
    "                    epochs=50, \n",
    "                    batch_size=32, \n",
    "                    validation_split=0.2, \n",
    "                    verbose=2)"
   ]
  },
  {
   "cell_type": "code",
   "execution_count": 30,
   "metadata": {},
   "outputs": [
    {
     "data": {
      "image/png": "[encoded data removed]",
      "text/plain": [
       "<Figure size 640x480 with 1 Axes>"
      ]
     },
     "metadata": {},
     "output_type": "display_data"
    }
   ],
   "source": [
    "plt.plot(history.history['loss'], label='Training Loss')\n",
    "plt.plot(history.history['val_loss'], label='Validation Loss')\n",
    "plt.title('Training and Validation Loss with Elastic Net Regularization')\n",
    "plt.xlabel('Epochs')\n",
    "plt.ylabel('Loss')\n",
    "plt.legend()\n",
    "plt.show()"
   ]
  },
  {
   "cell_type": "code",
   "execution_count": 31,
   "metadata": {},
   "outputs": [
    {
     "name": "stdout",
     "output_type": "stream",
     "text": [
      "\u001b[1m3/3\u001b[0m \u001b[32m━━━━━━━━━━━━━━━━━━━━\u001b[0m\u001b[37m\u001b[0m \u001b[1m0s\u001b[0m 3ms/step - loss: 3483.1199 - mean_absolute_error: 47.3478 \n",
      "Test Mean Absolute Error: 45.36021041870117\n"
     ]
    }
   ],
   "source": [
    "test_loss, test_mae = model.evaluate(X_test, y_test)\n",
    "print('Test Mean Absolute Error:', test_mae)"
   ]
  },
  {
   "cell_type": "code",
   "execution_count": 32,
   "metadata": {},
   "outputs": [
    {
     "name": "stdout",
     "output_type": "stream",
     "text": [
      "Epoch 1/30\n",
      "9/9 - 0s - 10ms/step - loss: 3084.1021 - mean_absolute_error: 43.8138 - val_loss: 2833.0991 - val_mean_absolute_error: 40.7324\n",
      "Epoch 2/30\n",
      "9/9 - 0s - 7ms/step - loss: 3064.6887 - mean_absolute_error: 43.6880 - val_loss: 2828.6284 - val_mean_absolute_error: 40.7194\n",
      "Epoch 3/30\n",
      "9/9 - 0s - 7ms/step - loss: 3046.7502 - mean_absolute_error: 43.5491 - val_loss: 2825.6230 - val_mean_absolute_error: 40.8650\n",
      "Epoch 4/30\n",
      "9/9 - 0s - 9ms/step - loss: 3027.6802 - mean_absolute_error: 43.4454 - val_loss: 2823.5110 - val_mean_absolute_error: 40.9428\n",
      "Epoch 5/30\n",
      "9/9 - 0s - 7ms/step - loss: 3007.3137 - mean_absolute_error: 43.3114 - val_loss: 2818.4592 - val_mean_absolute_error: 40.9407\n",
      "Epoch 6/30\n",
      "9/9 - 0s - 7ms/step - loss: 2994.4810 - mean_absolute_error: 43.2406 - val_loss: 2808.1438 - val_mean_absolute_error: 40.8915\n",
      "Epoch 7/30\n",
      "9/9 - 0s - 7ms/step - loss: 2974.5703 - mean_absolute_error: 43.1127 - val_loss: 2802.1492 - val_mean_absolute_error: 40.9198\n",
      "Epoch 8/30\n",
      "9/9 - 0s - 9ms/step - loss: 2966.2654 - mean_absolute_error: 43.0857 - val_loss: 2802.6079 - val_mean_absolute_error: 40.9102\n",
      "Epoch 9/30\n",
      "9/9 - 0s - 7ms/step - loss: 2946.4336 - mean_absolute_error: 42.9418 - val_loss: 2800.2214 - val_mean_absolute_error: 40.9879\n",
      "Epoch 10/30\n",
      "9/9 - 0s - 7ms/step - loss: 2931.6294 - mean_absolute_error: 42.8502 - val_loss: 2795.9731 - val_mean_absolute_error: 40.9857\n",
      "Epoch 11/30\n",
      "9/9 - 0s - 7ms/step - loss: 2918.9280 - mean_absolute_error: 42.7595 - val_loss: 2791.1091 - val_mean_absolute_error: 40.9998\n",
      "Epoch 12/30\n",
      "9/9 - 0s - 7ms/step - loss: 2907.2512 - mean_absolute_error: 42.6695 - val_loss: 2791.4150 - val_mean_absolute_error: 41.0606\n",
      "Epoch 13/30\n",
      "9/9 - 0s - 7ms/step - loss: 2894.2966 - mean_absolute_error: 42.6148 - val_loss: 2791.5498 - val_mean_absolute_error: 41.1124\n",
      "Epoch 14/30\n",
      "9/9 - 0s - 7ms/step - loss: 2885.2581 - mean_absolute_error: 42.5672 - val_loss: 2790.1035 - val_mean_absolute_error: 41.1646\n",
      "Epoch 15/30\n",
      "9/9 - 0s - 7ms/step - loss: 2875.9407 - mean_absolute_error: 42.5121 - val_loss: 2785.2910 - val_mean_absolute_error: 41.1954\n",
      "Epoch 16/30\n",
      "9/9 - 0s - 7ms/step - loss: 2864.0376 - mean_absolute_error: 42.4540 - val_loss: 2779.3225 - val_mean_absolute_error: 41.1134\n",
      "Epoch 17/30\n",
      "9/9 - 0s - 8ms/step - loss: 2853.1460 - mean_absolute_error: 42.3829 - val_loss: 2774.5403 - val_mean_absolute_error: 41.1285\n",
      "Epoch 18/30\n",
      "9/9 - 0s - 6ms/step - loss: 2843.2852 - mean_absolute_error: 42.3160 - val_loss: 2775.3887 - val_mean_absolute_error: 41.1131\n",
      "Epoch 19/30\n",
      "9/9 - 0s - 8ms/step - loss: 2834.5447 - mean_absolute_error: 42.2523 - val_loss: 2768.9587 - val_mean_absolute_error: 41.0582\n",
      "Epoch 20/30\n",
      "9/9 - 0s - 7ms/step - loss: 2821.6699 - mean_absolute_error: 42.1686 - val_loss: 2773.0898 - val_mean_absolute_error: 41.1383\n",
      "Epoch 21/30\n",
      "9/9 - 0s - 7ms/step - loss: 2814.0349 - mean_absolute_error: 42.1349 - val_loss: 2772.8381 - val_mean_absolute_error: 41.1848\n",
      "Epoch 22/30\n",
      "9/9 - 0s - 11ms/step - loss: 2806.7747 - mean_absolute_error: 42.1265 - val_loss: 2764.9375 - val_mean_absolute_error: 41.1474\n",
      "Epoch 23/30\n",
      "9/9 - 0s - 7ms/step - loss: 2801.3071 - mean_absolute_error: 42.1040 - val_loss: 2768.9834 - val_mean_absolute_error: 41.1694\n",
      "Epoch 24/30\n",
      "9/9 - 0s - 7ms/step - loss: 2794.2625 - mean_absolute_error: 42.0566 - val_loss: 2766.8953 - val_mean_absolute_error: 41.1781\n",
      "Epoch 25/30\n",
      "9/9 - 0s - 7ms/step - loss: 2780.8875 - mean_absolute_error: 41.9701 - val_loss: 2767.4124 - val_mean_absolute_error: 41.2059\n",
      "Epoch 26/30\n",
      "9/9 - 0s - 7ms/step - loss: 2774.8499 - mean_absolute_error: 41.9478 - val_loss: 2768.0374 - val_mean_absolute_error: 41.2579\n",
      "Epoch 27/30\n",
      "9/9 - 0s - 7ms/step - loss: 2768.3635 - mean_absolute_error: 41.8993 - val_loss: 2762.7122 - val_mean_absolute_error: 41.2264\n",
      "Epoch 28/30\n",
      "9/9 - 0s - 7ms/step - loss: 2761.7668 - mean_absolute_error: 41.8872 - val_loss: 2767.9995 - val_mean_absolute_error: 41.2673\n",
      "Epoch 29/30\n",
      "9/9 - 0s - 7ms/step - loss: 2754.4021 - mean_absolute_error: 41.8415 - val_loss: 2765.3362 - val_mean_absolute_error: 41.2465\n",
      "Epoch 30/30\n",
      "9/9 - 0s - 7ms/step - loss: 2749.8018 - mean_absolute_error: 41.8428 - val_loss: 2761.5823 - val_mean_absolute_error: 41.2158\n"
     ]
    },
    {
     "data": {
      "text/plain": [
       "<keras.src.callbacks.history.History at 0x269bb65b580>"
      ]
     },
     "execution_count": 32,
     "metadata": {},
     "output_type": "execute_result"
    }
   ],
   "source": [
    "model.fit(X_train, y_train, \n",
    "                    epochs=30, \n",
    "                    batch_size=32, \n",
    "                    validation_split=0.2, \n",
    "                    verbose=2)"
   ]
  },
  {
   "cell_type": "code",
   "execution_count": 33,
   "metadata": {},
   "outputs": [
    {
     "name": "stdout",
     "output_type": "stream",
     "text": [
      "\u001b[1m3/3\u001b[0m \u001b[32m━━━━━━━━━━━━━━━━━━━━\u001b[0m\u001b[37m\u001b[0m \u001b[1m0s\u001b[0m 2ms/step - loss: 3111.9443 - mean_absolute_error: 44.4674 \n",
      "Test Mean Absolute Error: 43.0986442565918\n"
     ]
    }
   ],
   "source": [
    "test_loss, test_mae = model.evaluate(X_test, y_test)\n",
    "print('Test Mean Absolute Error:', test_mae)"
   ]
  },
  {
   "cell_type": "code",
   "execution_count": 35,
   "metadata": {},
   "outputs": [
    {
     "name": "stdout",
     "output_type": "stream",
     "text": [
      "(150, 4)\n",
      "(150,)\n"
     ]
    }
   ],
   "source": [
    "# We will now add Dropout with the Iris dataset. \n",
    "\n",
    "data = load_iris()\n",
    "X = data.data\n",
    "y = data.target \n",
    "print(X.shape)\n",
    "print(y.shape)"
   ]
  },
  {
   "cell_type": "code",
   "execution_count": 37,
   "metadata": {},
   "outputs": [],
   "source": [
    "encoder = OneHotEncoder(sparse_output=False)\n",
    "y = encoder.fit_transform(y.reshape(-1, 1))"
   ]
  },
  {
   "cell_type": "code",
   "execution_count": 38,
   "metadata": {},
   "outputs": [
    {
     "name": "stdout",
     "output_type": "stream",
     "text": [
      "(150, 3)\n"
     ]
    }
   ],
   "source": [
    "print(y.shape)"
   ]
  },
  {
   "cell_type": "code",
   "execution_count": 43,
   "metadata": {},
   "outputs": [],
   "source": [
    "X_train, X_test, y_train, y_test = train_test_split(X, y, test_size=0.2, random_state=42)"
   ]
  },
  {
   "cell_type": "code",
   "execution_count": 44,
   "metadata": {},
   "outputs": [],
   "source": [
    "scaler = StandardScaler()\n",
    "X_train = scaler.fit_transform(X_train)\n",
    "X_test = scaler.transform(X_test)"
   ]
  },
  {
   "cell_type": "code",
   "execution_count": 45,
   "metadata": {},
   "outputs": [
    {
     "name": "stderr",
     "output_type": "stream",
     "text": [
      "c:\\Users\\coryg\\AppData\\Local\\Programs\\Python\\Python310\\lib\\site-packages\\keras\\src\\layers\\core\\dense.py:87: UserWarning: Do not pass an `input_shape`/`input_dim` argument to a layer. When using Sequential models, prefer using an `Input(shape)` object as the first layer in the model instead.\n",
      "  super().__init__(activity_regularizer=activity_regularizer, **kwargs)\n"
     ]
    }
   ],
   "source": [
    "def build_classification_model_with_regularization():\n",
    "    model = tf.keras.Sequential([\n",
    "        # First hidden layer with Elastic Net (L1 + L2) and ReLU activation\n",
    "        tf.keras.layers.Dense(64, activation='relu', input_shape=(X_train.shape[1],),\n",
    "                     kernel_regularizer=l1_l2(l1=0.001, l2=0.001)),\n",
    "        # Add Dropout layer with 20% dropout rate\n",
    "        tf.keras.layers.Dropout(0.3),\n",
    "        \n",
    "        # Second hidden layer with Elastic Net (L1 + L2) and ReLU activation\n",
    "        tf.keras.layers.Dense(64, activation='relu', kernel_regularizer=l1_l2(l1=0.001, l2=0.001)),\n",
    "        # Add another Dropout layer with 30% dropout rate\n",
    "        tf.keras.layers.Dropout(0.3),\n",
    "        \n",
    "        # Output layer for classification (Softmax activation for multi-class classification)\n",
    "        tf.keras.layers.Dense(3, activation='softmax')\n",
    "    ])\n",
    "    \n",
    "    model.compile(optimizer='adam',\n",
    "                  loss='categorical_crossentropy',  # Categorical crossentropy for multi-class classification\n",
    "                  metrics=['accuracy'])\n",
    "    return model\n",
    "\n",
    "# Build the model\n",
    "model = build_classification_model_with_regularization()"
   ]
  },
  {
   "cell_type": "code",
   "execution_count": 46,
   "metadata": {},
   "outputs": [
    {
     "name": "stdout",
     "output_type": "stream",
     "text": [
      "Epoch 1/50\n",
      "6/6 - 1s - 226ms/step - accuracy: 0.1771 - loss: 1.8618 - val_accuracy: 0.4167 - val_loss: 1.6863\n",
      "Epoch 2/50\n",
      "6/6 - 0s - 10ms/step - accuracy: 0.3542 - loss: 1.6453 - val_accuracy: 0.6250 - val_loss: 1.5452\n",
      "Epoch 3/50\n",
      "6/6 - 0s - 9ms/step - accuracy: 0.6146 - loss: 1.4812 - val_accuracy: 0.7500 - val_loss: 1.4257\n",
      "Epoch 4/50\n",
      "6/6 - 0s - 9ms/step - accuracy: 0.7083 - loss: 1.3544 - val_accuracy: 0.7500 - val_loss: 1.3191\n",
      "Epoch 5/50\n",
      "6/6 - 0s - 10ms/step - accuracy: 0.6667 - loss: 1.2918 - val_accuracy: 0.7500 - val_loss: 1.2361\n",
      "Epoch 6/50\n",
      "6/6 - 0s - 10ms/step - accuracy: 0.7604 - loss: 1.1916 - val_accuracy: 0.7500 - val_loss: 1.1612\n",
      "Epoch 7/50\n",
      "6/6 - 0s - 10ms/step - accuracy: 0.8229 - loss: 1.1342 - val_accuracy: 0.8750 - val_loss: 1.0965\n",
      "Epoch 8/50\n",
      "6/6 - 0s - 10ms/step - accuracy: 0.7708 - loss: 1.0695 - val_accuracy: 0.8750 - val_loss: 1.0325\n",
      "Epoch 9/50\n",
      "6/6 - 0s - 10ms/step - accuracy: 0.7708 - loss: 1.0088 - val_accuracy: 0.8750 - val_loss: 0.9843\n",
      "Epoch 10/50\n",
      "6/6 - 0s - 10ms/step - accuracy: 0.8229 - loss: 0.9918 - val_accuracy: 0.8750 - val_loss: 0.9441\n",
      "Epoch 11/50\n",
      "6/6 - 0s - 10ms/step - accuracy: 0.8021 - loss: 0.9433 - val_accuracy: 0.8750 - val_loss: 0.9061\n",
      "Epoch 12/50\n",
      "6/6 - 0s - 10ms/step - accuracy: 0.8229 - loss: 0.9010 - val_accuracy: 0.8750 - val_loss: 0.8743\n",
      "Epoch 13/50\n",
      "6/6 - 0s - 10ms/step - accuracy: 0.8333 - loss: 0.8658 - val_accuracy: 0.8750 - val_loss: 0.8470\n",
      "Epoch 14/50\n",
      "6/6 - 0s - 10ms/step - accuracy: 0.8333 - loss: 0.8468 - val_accuracy: 0.9167 - val_loss: 0.8250\n",
      "Epoch 15/50\n",
      "6/6 - 0s - 10ms/step - accuracy: 0.8542 - loss: 0.8408 - val_accuracy: 0.9167 - val_loss: 0.8027\n",
      "Epoch 16/50\n",
      "6/6 - 0s - 10ms/step - accuracy: 0.8125 - loss: 0.8437 - val_accuracy: 0.9167 - val_loss: 0.7854\n",
      "Epoch 17/50\n",
      "6/6 - 0s - 10ms/step - accuracy: 0.8438 - loss: 0.7994 - val_accuracy: 0.9167 - val_loss: 0.7667\n",
      "Epoch 18/50\n",
      "6/6 - 0s - 10ms/step - accuracy: 0.8958 - loss: 0.7612 - val_accuracy: 0.9167 - val_loss: 0.7535\n",
      "Epoch 19/50\n",
      "6/6 - 0s - 10ms/step - accuracy: 0.8021 - loss: 0.7892 - val_accuracy: 0.9167 - val_loss: 0.7397\n",
      "Epoch 20/50\n",
      "6/6 - 0s - 11ms/step - accuracy: 0.8646 - loss: 0.7489 - val_accuracy: 0.9167 - val_loss: 0.7217\n",
      "Epoch 21/50\n",
      "6/6 - 0s - 11ms/step - accuracy: 0.8750 - loss: 0.7172 - val_accuracy: 0.9167 - val_loss: 0.7043\n",
      "Epoch 22/50\n",
      "6/6 - 0s - 10ms/step - accuracy: 0.8333 - loss: 0.7418 - val_accuracy: 0.9167 - val_loss: 0.6873\n",
      "Epoch 23/50\n",
      "6/6 - 0s - 9ms/step - accuracy: 0.8958 - loss: 0.6972 - val_accuracy: 0.9167 - val_loss: 0.6706\n",
      "Epoch 24/50\n",
      "6/6 - 0s - 9ms/step - accuracy: 0.8542 - loss: 0.7102 - val_accuracy: 0.9167 - val_loss: 0.6545\n",
      "Epoch 25/50\n",
      "6/6 - 0s - 11ms/step - accuracy: 0.9167 - loss: 0.6691 - val_accuracy: 0.9167 - val_loss: 0.6490\n",
      "Epoch 26/50\n",
      "6/6 - 0s - 10ms/step - accuracy: 0.8958 - loss: 0.6852 - val_accuracy: 0.9167 - val_loss: 0.6363\n",
      "Epoch 27/50\n",
      "6/6 - 0s - 10ms/step - accuracy: 0.8958 - loss: 0.6422 - val_accuracy: 0.9583 - val_loss: 0.6247\n",
      "Epoch 28/50\n",
      "6/6 - 0s - 9ms/step - accuracy: 0.9062 - loss: 0.6227 - val_accuracy: 0.9583 - val_loss: 0.6171\n",
      "Epoch 29/50\n",
      "6/6 - 0s - 10ms/step - accuracy: 0.9062 - loss: 0.6106 - val_accuracy: 0.9583 - val_loss: 0.6035\n",
      "Epoch 30/50\n",
      "6/6 - 0s - 11ms/step - accuracy: 0.8854 - loss: 0.6199 - val_accuracy: 0.9583 - val_loss: 0.5849\n",
      "Epoch 31/50\n",
      "6/6 - 0s - 9ms/step - accuracy: 0.9167 - loss: 0.5787 - val_accuracy: 0.9583 - val_loss: 0.5705\n",
      "Epoch 32/50\n",
      "6/6 - 0s - 10ms/step - accuracy: 0.9167 - loss: 0.5841 - val_accuracy: 0.9583 - val_loss: 0.5665\n",
      "Epoch 33/50\n",
      "6/6 - 0s - 10ms/step - accuracy: 0.8958 - loss: 0.6034 - val_accuracy: 0.9583 - val_loss: 0.5577\n",
      "Epoch 34/50\n",
      "6/6 - 0s - 11ms/step - accuracy: 0.9479 - loss: 0.5179 - val_accuracy: 0.9583 - val_loss: 0.5535\n",
      "Epoch 35/50\n",
      "6/6 - 0s - 10ms/step - accuracy: 0.9583 - loss: 0.5272 - val_accuracy: 0.9583 - val_loss: 0.5461\n",
      "Epoch 36/50\n",
      "6/6 - 0s - 9ms/step - accuracy: 0.9167 - loss: 0.5652 - val_accuracy: 0.9583 - val_loss: 0.5324\n",
      "Epoch 37/50\n",
      "6/6 - 0s - 10ms/step - accuracy: 0.9271 - loss: 0.4945 - val_accuracy: 0.9583 - val_loss: 0.5260\n",
      "Epoch 38/50\n",
      "6/6 - 0s - 9ms/step - accuracy: 0.9375 - loss: 0.5235 - val_accuracy: 0.9583 - val_loss: 0.5154\n",
      "Epoch 39/50\n",
      "6/6 - 0s - 10ms/step - accuracy: 0.9375 - loss: 0.5240 - val_accuracy: 0.9583 - val_loss: 0.5009\n",
      "Epoch 40/50\n",
      "6/6 - 0s - 9ms/step - accuracy: 0.9271 - loss: 0.5129 - val_accuracy: 0.9583 - val_loss: 0.4899\n",
      "Epoch 41/50\n",
      "6/6 - 0s - 9ms/step - accuracy: 0.9062 - loss: 0.5240 - val_accuracy: 0.9583 - val_loss: 0.4787\n",
      "Epoch 42/50\n",
      "6/6 - 0s - 11ms/step - accuracy: 0.9479 - loss: 0.5180 - val_accuracy: 0.9583 - val_loss: 0.4768\n",
      "Epoch 43/50\n",
      "6/6 - 0s - 12ms/step - accuracy: 0.9479 - loss: 0.4906 - val_accuracy: 0.9583 - val_loss: 0.4645\n",
      "Epoch 44/50\n",
      "6/6 - 0s - 10ms/step - accuracy: 0.9271 - loss: 0.4602 - val_accuracy: 0.9583 - val_loss: 0.4619\n",
      "Epoch 45/50\n",
      "6/6 - 0s - 10ms/step - accuracy: 0.9375 - loss: 0.4850 - val_accuracy: 0.9583 - val_loss: 0.4630\n",
      "Epoch 46/50\n",
      "6/6 - 0s - 10ms/step - accuracy: 0.9271 - loss: 0.4754 - val_accuracy: 0.9583 - val_loss: 0.4556\n",
      "Epoch 47/50\n",
      "6/6 - 0s - 10ms/step - accuracy: 0.9688 - loss: 0.4428 - val_accuracy: 0.9583 - val_loss: 0.4486\n",
      "Epoch 48/50\n",
      "6/6 - 0s - 10ms/step - accuracy: 0.9583 - loss: 0.4176 - val_accuracy: 0.9583 - val_loss: 0.4360\n",
      "Epoch 49/50\n",
      "6/6 - 0s - 10ms/step - accuracy: 0.9375 - loss: 0.4808 - val_accuracy: 0.9583 - val_loss: 0.4291\n",
      "Epoch 50/50\n",
      "6/6 - 0s - 10ms/step - accuracy: 0.9479 - loss: 0.4591 - val_accuracy: 0.9583 - val_loss: 0.4297\n"
     ]
    }
   ],
   "source": [
    "history = model.fit(X_train, y_train, \n",
    "                    epochs=50, \n",
    "                    batch_size=16, \n",
    "                    validation_split=0.2, \n",
    "                    verbose=2)"
   ]
  },
  {
   "cell_type": "code",
   "execution_count": 47,
   "metadata": {},
   "outputs": [
    {
     "name": "stdout",
     "output_type": "stream",
     "text": [
      "\u001b[1m1/1\u001b[0m \u001b[32m━━━━━━━━━━━━━━━━━━━━\u001b[0m\u001b[37m\u001b[0m \u001b[1m0s\u001b[0m 22ms/step - accuracy: 1.0000 - loss: 0.3675\n",
      "Test Accuracy: 1.0\n"
     ]
    }
   ],
   "source": [
    "test_loss, test_acc = model.evaluate(X_test, y_test)\n",
    "print('Test Accuracy:', test_acc)"
   ]
  },
  {
   "cell_type": "code",
   "execution_count": 48,
   "metadata": {},
   "outputs": [
    {
     "data": {
      "image/png": "[encoded data removed]",
      "text/plain": [
       "<Figure size 640x480 with 1 Axes>"
      ]
     },
     "metadata": {},
     "output_type": "display_data"
    }
   ],
   "source": [
    "plt.plot(history.history['accuracy'], label='Training Accuracy')\n",
    "plt.plot(history.history['val_accuracy'], label='Validation Accuracy')\n",
    "plt.title('Training and Validation Accuracy with Dropout and Elastic Net Regularization')\n",
    "plt.xlabel('Epochs')\n",
    "plt.ylabel('Accuracy')\n",
    "plt.legend()\n",
    "plt.show()"
   ]
  },
  {
   "cell_type": "code",
   "execution_count": 49,
   "metadata": {},
   "outputs": [
    {
     "name": "stdout",
     "output_type": "stream",
     "text": [
      "Epoch 1/20\n",
      "6/6 - 0s - 14ms/step - accuracy: 0.9375 - loss: 0.4210 - val_accuracy: 0.9583 - val_loss: 0.4151\n",
      "Epoch 2/20\n",
      "6/6 - 0s - 10ms/step - accuracy: 0.9479 - loss: 0.4293 - val_accuracy: 0.9583 - val_loss: 0.4175\n",
      "Epoch 3/20\n",
      "6/6 - 0s - 10ms/step - accuracy: 0.9792 - loss: 0.3962 - val_accuracy: 0.9583 - val_loss: 0.4117\n",
      "Epoch 4/20\n",
      "6/6 - 0s - 10ms/step - accuracy: 0.9688 - loss: 0.3972 - val_accuracy: 0.9583 - val_loss: 0.4039\n",
      "Epoch 5/20\n",
      "6/6 - 0s - 10ms/step - accuracy: 0.9583 - loss: 0.4000 - val_accuracy: 0.9583 - val_loss: 0.3962\n",
      "Epoch 6/20\n",
      "6/6 - 0s - 10ms/step - accuracy: 0.9479 - loss: 0.4027 - val_accuracy: 0.9583 - val_loss: 0.3992\n",
      "Epoch 7/20\n",
      "6/6 - 0s - 10ms/step - accuracy: 0.9479 - loss: 0.4076 - val_accuracy: 0.9583 - val_loss: 0.3851\n",
      "Epoch 8/20\n",
      "6/6 - 0s - 9ms/step - accuracy: 0.9583 - loss: 0.3924 - val_accuracy: 0.9583 - val_loss: 0.3725\n",
      "Epoch 9/20\n",
      "6/6 - 0s - 10ms/step - accuracy: 0.9479 - loss: 0.3882 - val_accuracy: 0.9583 - val_loss: 0.3671\n",
      "Epoch 10/20\n",
      "6/6 - 0s - 10ms/step - accuracy: 0.9479 - loss: 0.3866 - val_accuracy: 0.9583 - val_loss: 0.3687\n",
      "Epoch 11/20\n",
      "6/6 - 0s - 10ms/step - accuracy: 0.9583 - loss: 0.3646 - val_accuracy: 0.9583 - val_loss: 0.3750\n",
      "Epoch 12/20\n",
      "6/6 - 0s - 9ms/step - accuracy: 0.9583 - loss: 0.3570 - val_accuracy: 0.9583 - val_loss: 0.3767\n",
      "Epoch 13/20\n",
      "6/6 - 0s - 10ms/step - accuracy: 0.9479 - loss: 0.3663 - val_accuracy: 0.9583 - val_loss: 0.3680\n",
      "Epoch 14/20\n",
      "6/6 - 0s - 10ms/step - accuracy: 0.9479 - loss: 0.3540 - val_accuracy: 0.9583 - val_loss: 0.3621\n",
      "Epoch 15/20\n",
      "6/6 - 0s - 10ms/step - accuracy: 0.9583 - loss: 0.3597 - val_accuracy: 0.9583 - val_loss: 0.3571\n",
      "Epoch 16/20\n",
      "6/6 - 0s - 10ms/step - accuracy: 0.9688 - loss: 0.3521 - val_accuracy: 0.9583 - val_loss: 0.3472\n",
      "Epoch 17/20\n",
      "6/6 - 0s - 9ms/step - accuracy: 0.9792 - loss: 0.3446 - val_accuracy: 0.9583 - val_loss: 0.3530\n",
      "Epoch 18/20\n",
      "6/6 - 0s - 9ms/step - accuracy: 0.9583 - loss: 0.3386 - val_accuracy: 0.9583 - val_loss: 0.3422\n",
      "Epoch 19/20\n",
      "6/6 - 0s - 9ms/step - accuracy: 0.9583 - loss: 0.3690 - val_accuracy: 0.9583 - val_loss: 0.3333\n",
      "Epoch 20/20\n",
      "6/6 - 0s - 9ms/step - accuracy: 0.9479 - loss: 0.3490 - val_accuracy: 0.9583 - val_loss: 0.3307\n"
     ]
    },
    {
     "data": {
      "text/plain": [
       "<keras.src.callbacks.history.History at 0x269bda12b90>"
      ]
     },
     "execution_count": 49,
     "metadata": {},
     "output_type": "execute_result"
    }
   ],
   "source": [
    "model.fit(X_train, y_train, \n",
    "                    epochs=20, \n",
    "                    batch_size=16, \n",
    "                    validation_split=0.2, \n",
    "                    verbose=2)"
   ]
  },
  {
   "cell_type": "code",
   "execution_count": 50,
   "metadata": {},
   "outputs": [
    {
     "name": "stdout",
     "output_type": "stream",
     "text": [
      "\u001b[1m1/1\u001b[0m \u001b[32m━━━━━━━━━━━━━━━━━━━━\u001b[0m\u001b[37m\u001b[0m \u001b[1m0s\u001b[0m 23ms/step - accuracy: 1.0000 - loss: 0.2933\n",
      "Test Accuracy: 1.0\n"
     ]
    }
   ],
   "source": [
    "test_loss, test_acc = model.evaluate(X_test, y_test)\n",
    "print('Test Accuracy:', test_acc)"
   ]
  },
  {
   "cell_type": "markdown",
   "metadata": {},
   "source": [
    "FNN for Survival Analysis"
   ]
  },
  {
   "cell_type": "code",
   "execution_count": 3,
   "metadata": {},
   "outputs": [
    {
     "data": {
      "text/html": [
       "<div>\n",
       "<style scoped>\n",
       "    .dataframe tbody tr th:only-of-type {\n",
       "        vertical-align: middle;\n",
       "    }\n",
       "\n",
       "    .dataframe tbody tr th {\n",
       "        vertical-align: top;\n",
       "    }\n",
       "\n",
       "    .dataframe thead th {\n",
       "        text-align: right;\n",
       "    }\n",
       "</style>\n",
       "<table border=\"1\" class=\"dataframe\">\n",
       "  <thead>\n",
       "    <tr style=\"text-align: right;\">\n",
       "      <th></th>\n",
       "      <th>afb</th>\n",
       "      <th>age</th>\n",
       "      <th>av3</th>\n",
       "      <th>bmi</th>\n",
       "      <th>chf</th>\n",
       "      <th>cvd</th>\n",
       "      <th>diasbp</th>\n",
       "      <th>gender</th>\n",
       "      <th>hr</th>\n",
       "      <th>los</th>\n",
       "      <th>miord</th>\n",
       "      <th>mitype</th>\n",
       "      <th>sho</th>\n",
       "      <th>sysbp</th>\n",
       "    </tr>\n",
       "  </thead>\n",
       "  <tbody>\n",
       "    <tr>\n",
       "      <th>0</th>\n",
       "      <td>1</td>\n",
       "      <td>83.0</td>\n",
       "      <td>0</td>\n",
       "      <td>25.54051</td>\n",
       "      <td>0</td>\n",
       "      <td>1</td>\n",
       "      <td>78.0</td>\n",
       "      <td>0</td>\n",
       "      <td>89.0</td>\n",
       "      <td>5.0</td>\n",
       "      <td>1</td>\n",
       "      <td>0</td>\n",
       "      <td>0</td>\n",
       "      <td>152.0</td>\n",
       "    </tr>\n",
       "    <tr>\n",
       "      <th>1</th>\n",
       "      <td>0</td>\n",
       "      <td>49.0</td>\n",
       "      <td>0</td>\n",
       "      <td>24.02398</td>\n",
       "      <td>0</td>\n",
       "      <td>1</td>\n",
       "      <td>60.0</td>\n",
       "      <td>0</td>\n",
       "      <td>84.0</td>\n",
       "      <td>5.0</td>\n",
       "      <td>0</td>\n",
       "      <td>1</td>\n",
       "      <td>0</td>\n",
       "      <td>120.0</td>\n",
       "    </tr>\n",
       "    <tr>\n",
       "      <th>2</th>\n",
       "      <td>0</td>\n",
       "      <td>70.0</td>\n",
       "      <td>0</td>\n",
       "      <td>22.14290</td>\n",
       "      <td>0</td>\n",
       "      <td>0</td>\n",
       "      <td>88.0</td>\n",
       "      <td>1</td>\n",
       "      <td>83.0</td>\n",
       "      <td>5.0</td>\n",
       "      <td>0</td>\n",
       "      <td>1</td>\n",
       "      <td>0</td>\n",
       "      <td>147.0</td>\n",
       "    </tr>\n",
       "    <tr>\n",
       "      <th>3</th>\n",
       "      <td>0</td>\n",
       "      <td>70.0</td>\n",
       "      <td>0</td>\n",
       "      <td>26.63187</td>\n",
       "      <td>1</td>\n",
       "      <td>1</td>\n",
       "      <td>76.0</td>\n",
       "      <td>0</td>\n",
       "      <td>65.0</td>\n",
       "      <td>10.0</td>\n",
       "      <td>0</td>\n",
       "      <td>1</td>\n",
       "      <td>0</td>\n",
       "      <td>123.0</td>\n",
       "    </tr>\n",
       "    <tr>\n",
       "      <th>4</th>\n",
       "      <td>0</td>\n",
       "      <td>70.0</td>\n",
       "      <td>0</td>\n",
       "      <td>24.41255</td>\n",
       "      <td>0</td>\n",
       "      <td>1</td>\n",
       "      <td>85.0</td>\n",
       "      <td>0</td>\n",
       "      <td>63.0</td>\n",
       "      <td>6.0</td>\n",
       "      <td>0</td>\n",
       "      <td>1</td>\n",
       "      <td>0</td>\n",
       "      <td>135.0</td>\n",
       "    </tr>\n",
       "  </tbody>\n",
       "</table>\n",
       "</div>"
      ],
      "text/plain": [
       "  afb   age av3       bmi chf cvd  diasbp gender    hr   los miord mitype sho  \\\n",
       "0   1  83.0   0  25.54051   0   1    78.0      0  89.0   5.0     1      0   0   \n",
       "1   0  49.0   0  24.02398   0   1    60.0      0  84.0   5.0     0      1   0   \n",
       "2   0  70.0   0  22.14290   0   0    88.0      1  83.0   5.0     0      1   0   \n",
       "3   0  70.0   0  26.63187   1   1    76.0      0  65.0  10.0     0      1   0   \n",
       "4   0  70.0   0  24.41255   0   1    85.0      0  63.0   6.0     0      1   0   \n",
       "\n",
       "   sysbp  \n",
       "0  152.0  \n",
       "1  120.0  \n",
       "2  147.0  \n",
       "3  123.0  \n",
       "4  135.0  "
      ]
     },
     "execution_count": 3,
     "metadata": {},
     "output_type": "execute_result"
    }
   ],
   "source": [
    "data_x, data_y = load_whas500()\n",
    "df_x = pd.DataFrame(data_x)\n",
    "df_y = pd.DataFrame(data_y)\n",
    "df_x.head()"
   ]
  },
  {
   "cell_type": "code",
   "execution_count": 4,
   "metadata": {},
   "outputs": [
    {
     "data": {
      "text/html": [
       "<div>\n",
       "<style scoped>\n",
       "    .dataframe tbody tr th:only-of-type {\n",
       "        vertical-align: middle;\n",
       "    }\n",
       "\n",
       "    .dataframe tbody tr th {\n",
       "        vertical-align: top;\n",
       "    }\n",
       "\n",
       "    .dataframe thead th {\n",
       "        text-align: right;\n",
       "    }\n",
       "</style>\n",
       "<table border=\"1\" class=\"dataframe\">\n",
       "  <thead>\n",
       "    <tr style=\"text-align: right;\">\n",
       "      <th></th>\n",
       "      <th>fstat</th>\n",
       "      <th>lenfol</th>\n",
       "    </tr>\n",
       "  </thead>\n",
       "  <tbody>\n",
       "    <tr>\n",
       "      <th>0</th>\n",
       "      <td>False</td>\n",
       "      <td>2178.0</td>\n",
       "    </tr>\n",
       "    <tr>\n",
       "      <th>1</th>\n",
       "      <td>False</td>\n",
       "      <td>2172.0</td>\n",
       "    </tr>\n",
       "    <tr>\n",
       "      <th>2</th>\n",
       "      <td>False</td>\n",
       "      <td>2190.0</td>\n",
       "    </tr>\n",
       "    <tr>\n",
       "      <th>3</th>\n",
       "      <td>True</td>\n",
       "      <td>297.0</td>\n",
       "    </tr>\n",
       "    <tr>\n",
       "      <th>4</th>\n",
       "      <td>False</td>\n",
       "      <td>2131.0</td>\n",
       "    </tr>\n",
       "  </tbody>\n",
       "</table>\n",
       "</div>"
      ],
      "text/plain": [
       "   fstat  lenfol\n",
       "0  False  2178.0\n",
       "1  False  2172.0\n",
       "2  False  2190.0\n",
       "3   True   297.0\n",
       "4  False  2131.0"
      ]
     },
     "execution_count": 4,
     "metadata": {},
     "output_type": "execute_result"
    }
   ],
   "source": [
    "df_y.head()"
   ]
  },
  {
   "cell_type": "code",
   "execution_count": 5,
   "metadata": {},
   "outputs": [
    {
     "name": "stdout",
     "output_type": "stream",
     "text": [
      "  afb   age av3       bmi chf cvd  diasbp gender    hr   los miord mitype sho  \\\n",
      "0   1  83.0   0  25.54051   0   1    78.0      0  89.0   5.0     1      0   0   \n",
      "1   0  49.0   0  24.02398   0   1    60.0      0  84.0   5.0     0      1   0   \n",
      "2   0  70.0   0  22.14290   0   0    88.0      1  83.0   5.0     0      1   0   \n",
      "3   0  70.0   0  26.63187   1   1    76.0      0  65.0  10.0     0      1   0   \n",
      "4   0  70.0   0  24.41255   0   1    85.0      0  63.0   6.0     0      1   0   \n",
      "\n",
      "   sysbp  \n",
      "0  152.0  \n",
      "1  120.0  \n",
      "2  147.0  \n",
      "3  123.0  \n",
      "4  135.0  \n",
      "     time  event\n",
      "0  2178.0  False\n",
      "1  2172.0  False\n",
      "2  2190.0  False\n",
      "3   297.0   True\n",
      "4  2131.0  False\n"
     ]
    }
   ],
   "source": [
    "# Combine time and event indicator with features. \n",
    "\n",
    "df_y['time'] = df_y['lenfol']\n",
    "df_y['event'] = df_y['fstat']\n",
    "df_y = df_y[['time', 'event']]\n",
    "print(df_x.head())\n",
    "print(df_y.head())"
   ]
  },
  {
   "cell_type": "code",
   "execution_count": 11,
   "metadata": {},
   "outputs": [],
   "source": [
    "X_train, X_test, y_train, y_test = train_test_split(df_x, df_y, test_size=0.2, random_state=42)\n",
    "scaler = StandardScaler()\n",
    "X_train = scaler.fit_transform(X_train)\n",
    "X_test = scaler.transform(X_test)"
   ]
  },
  {
   "cell_type": "code",
   "execution_count": 12,
   "metadata": {},
   "outputs": [],
   "source": [
    "def cox_ph_loss(y_true, y_pred):\n",
    "    time = y_true[:, 0]\n",
    "    event = y_true[:, 1]\n",
    "    order = tf.argsort(time)\n",
    "    time = tf.gather(time, order)\n",
    "    event = tf.gather(event, order)\n",
    "    y_pred = tf.gather(y_pred, order)\n",
    "\n",
    "    risk = tf.math.exp(y_pred)\n",
    "    cum_risk = tf.math.cumsum(risk[::-1])[::-1]\n",
    "    log_likelihood = tf.reduce_sum(event * (y_pred - tf.math.log(cum_risk + 1e-9)))\n",
    "    return -log_likelihood"
   ]
  },
  {
   "cell_type": "code",
   "execution_count": 13,
   "metadata": {},
   "outputs": [
    {
     "name": "stderr",
     "output_type": "stream",
     "text": [
      "c:\\Users\\coryg\\AppData\\Local\\Programs\\Python\\Python310\\lib\\site-packages\\keras\\src\\layers\\core\\dense.py:87: UserWarning: Do not pass an `input_shape`/`input_dim` argument to a layer. When using Sequential models, prefer using an `Input(shape)` object as the first layer in the model instead.\n",
      "  super().__init__(activity_regularizer=activity_regularizer, **kwargs)\n"
     ]
    }
   ],
   "source": [
    "def build_survival_model(input_shape):\n",
    "    model = tf.keras.models.Sequential([\n",
    "        tf.keras.layers.Dense(64, activation=\"relu\", input_shape=input_shape),\n",
    "        tf.keras.layers.Dense(32, activation=\"relu\"),\n",
    "        tf.keras.layers.Dense(1, activation=None)\n",
    "    ])\n",
    "    model.compile(optimizer='adam', loss=cox_ph_loss)\n",
    "    return model\n",
    "\n",
    "input_shape = (X_train.shape[1],)\n",
    "model = build_survival_model(input_shape)"
   ]
  },
  {
   "cell_type": "code",
   "execution_count": 14,
   "metadata": {},
   "outputs": [],
   "source": [
    "# Prepare the labels for training. \n",
    "\n",
    "y_train_prepared = np.vstack([y_train[\"time\"].values, y_train[\"event\"].values]).T\n",
    "y_test_prepared = np.vstack([y_test[\"time\"].values, y_test[\"event\"].values]).T"
   ]
  },
  {
   "cell_type": "code",
   "execution_count": 15,
   "metadata": {},
   "outputs": [
    {
     "name": "stdout",
     "output_type": "stream",
     "text": [
      "Epoch 1/50\n",
      "10/10 - 2s - 175ms/step - loss: 1117.3076 - val_loss: 985.3134\n",
      "Epoch 2/50\n",
      "10/10 - 0s - 13ms/step - loss: 1097.3359 - val_loss: 984.9283\n",
      "Epoch 3/50\n",
      "10/10 - 0s - 25ms/step - loss: 1081.7885 - val_loss: 986.2072\n",
      "Epoch 4/50\n",
      "10/10 - 0s - 10ms/step - loss: 1073.5173 - val_loss: 988.4362\n",
      "Epoch 5/50\n",
      "10/10 - 0s - 11ms/step - loss: 1064.6237 - val_loss: 990.5159\n",
      "Epoch 6/50\n",
      "10/10 - 0s - 10ms/step - loss: 1058.1193 - val_loss: 992.7952\n",
      "Epoch 7/50\n",
      "10/10 - 0s - 10ms/step - loss: 1050.0847 - val_loss: 996.4790\n",
      "Epoch 8/50\n",
      "10/10 - 0s - 16ms/step - loss: 1043.1235 - val_loss: 1001.8789\n",
      "Epoch 9/50\n",
      "10/10 - 0s - 14ms/step - loss: 1034.7571 - val_loss: 1005.3466\n",
      "Epoch 10/50\n",
      "10/10 - 0s - 15ms/step - loss: 1029.9006 - val_loss: 1010.5044\n",
      "Epoch 11/50\n",
      "10/10 - 0s - 12ms/step - loss: 1029.1482 - val_loss: 1012.8084\n",
      "Epoch 12/50\n",
      "10/10 - 0s - 13ms/step - loss: 1025.1472 - val_loss: 1016.5954\n",
      "Epoch 13/50\n",
      "10/10 - 0s - 16ms/step - loss: 1012.5352 - val_loss: 1022.9573\n",
      "Epoch 14/50\n",
      "10/10 - 0s - 11ms/step - loss: 1020.6036 - val_loss: 1023.5978\n",
      "Epoch 15/50\n",
      "10/10 - 0s - 11ms/step - loss: 1011.0389 - val_loss: 1022.5094\n",
      "Epoch 16/50\n",
      "10/10 - 0s - 14ms/step - loss: 1007.0628 - val_loss: 1033.5380\n",
      "Epoch 17/50\n",
      "10/10 - 0s - 16ms/step - loss: 1008.9916 - val_loss: 1027.9368\n",
      "Epoch 18/50\n",
      "10/10 - 0s - 12ms/step - loss: 1006.1967 - val_loss: 1034.9958\n",
      "Epoch 19/50\n",
      "10/10 - 0s - 15ms/step - loss: 1001.9375 - val_loss: 1035.6660\n",
      "Epoch 20/50\n",
      "10/10 - 0s - 14ms/step - loss: 993.5975 - val_loss: 1041.1392\n",
      "Epoch 21/50\n",
      "10/10 - 0s - 14ms/step - loss: 1000.1338 - val_loss: 1045.7513\n",
      "Epoch 22/50\n",
      "10/10 - 0s - 14ms/step - loss: 993.7855 - val_loss: 1046.7021\n",
      "Epoch 23/50\n",
      "10/10 - 0s - 17ms/step - loss: 988.9073 - val_loss: 1046.7599\n",
      "Epoch 24/50\n",
      "10/10 - 0s - 19ms/step - loss: 984.7899 - val_loss: 1053.7578\n",
      "Epoch 25/50\n",
      "10/10 - 0s - 12ms/step - loss: 976.4999 - val_loss: 1058.1879\n",
      "Epoch 26/50\n",
      "10/10 - 0s - 11ms/step - loss: 975.5883 - val_loss: 1060.0433\n",
      "Epoch 27/50\n",
      "10/10 - 0s - 12ms/step - loss: 978.2047 - val_loss: 1053.1869\n",
      "Epoch 28/50\n",
      "10/10 - 0s - 15ms/step - loss: 985.0123 - val_loss: 1048.2468\n",
      "Epoch 29/50\n",
      "10/10 - 0s - 15ms/step - loss: 971.8592 - val_loss: 1054.5518\n",
      "Epoch 30/50\n",
      "10/10 - 0s - 11ms/step - loss: 968.2690 - val_loss: 1062.0101\n",
      "Epoch 31/50\n",
      "10/10 - 0s - 18ms/step - loss: 968.7497 - val_loss: 1057.2279\n",
      "Epoch 32/50\n",
      "10/10 - 0s - 12ms/step - loss: 955.8008 - val_loss: 1062.8329\n",
      "Epoch 33/50\n",
      "10/10 - 0s - 13ms/step - loss: 956.7266 - val_loss: 1075.5177\n",
      "Epoch 34/50\n",
      "10/10 - 0s - 11ms/step - loss: 957.0616 - val_loss: 1079.2877\n",
      "Epoch 35/50\n",
      "10/10 - 0s - 9ms/step - loss: 958.6087 - val_loss: 1071.5969\n",
      "Epoch 36/50\n",
      "10/10 - 0s - 9ms/step - loss: 960.0032 - val_loss: 1068.3080\n",
      "Epoch 37/50\n",
      "10/10 - 0s - 9ms/step - loss: 955.5666 - val_loss: 1074.7751\n",
      "Epoch 38/50\n",
      "10/10 - 0s - 9ms/step - loss: 945.4525 - val_loss: 1077.4622\n",
      "Epoch 39/50\n",
      "10/10 - 0s - 10ms/step - loss: 947.1492 - val_loss: 1077.5745\n",
      "Epoch 40/50\n",
      "10/10 - 0s - 9ms/step - loss: 935.0760 - val_loss: 1084.7213\n",
      "Epoch 41/50\n",
      "10/10 - 0s - 9ms/step - loss: 933.9401 - val_loss: 1090.5659\n",
      "Epoch 42/50\n",
      "10/10 - 0s - 9ms/step - loss: 923.2332 - val_loss: 1097.2528\n",
      "Epoch 43/50\n",
      "10/10 - 0s - 18ms/step - loss: 930.1898 - val_loss: 1090.9934\n",
      "Epoch 44/50\n",
      "10/10 - 0s - 9ms/step - loss: 927.8145 - val_loss: 1086.0513\n",
      "Epoch 45/50\n",
      "10/10 - 0s - 10ms/step - loss: 929.0421 - val_loss: 1093.8243\n",
      "Epoch 46/50\n",
      "10/10 - 0s - 10ms/step - loss: 924.4564 - val_loss: 1111.4629\n",
      "Epoch 47/50\n",
      "10/10 - 0s - 9ms/step - loss: 916.3412 - val_loss: 1106.7433\n",
      "Epoch 48/50\n",
      "10/10 - 0s - 9ms/step - loss: 905.6014 - val_loss: 1107.4818\n",
      "Epoch 49/50\n",
      "10/10 - 0s - 9ms/step - loss: 911.3280 - val_loss: 1124.9021\n",
      "Epoch 50/50\n",
      "10/10 - 0s - 10ms/step - loss: 908.0129 - val_loss: 1116.3120\n"
     ]
    }
   ],
   "source": [
    "history = model.fit(X_train, y_train_prepared, epochs=50, batch_size=32, validation_split=0.2, verbose=2)"
   ]
  },
  {
   "cell_type": "code",
   "execution_count": 17,
   "metadata": {},
   "outputs": [
    {
     "name": "stdout",
     "output_type": "stream",
     "text": [
      "\u001b[1m4/4\u001b[0m \u001b[32m━━━━━━━━━━━━━━━━━━━━\u001b[0m\u001b[37m\u001b[0m \u001b[1m0s\u001b[0m 19ms/step\n",
      "Concordance Index: 0.31239446133063153\n"
     ]
    }
   ],
   "source": [
    "risk_scores = model.predict(X_test)\n",
    "c_index = concordance_index_censored(y_test[\"event\"], y_test[\"time\"], -risk_scores.flatten())\n",
    "print(f\"Concordance Index: {c_index[0]}\")"
   ]
  },
  {
   "cell_type": "code",
   "execution_count": 18,
   "metadata": {},
   "outputs": [
    {
     "data": {
      "image/png": "[encoded data removed]",
      "text/plain": [
       "<Figure size 640x480 with 1 Axes>"
      ]
     },
     "metadata": {},
     "output_type": "display_data"
    }
   ],
   "source": [
    "plt.plot(history.history['loss'], label='Training Loss')\n",
    "plt.plot(history.history['val_loss'], label='Validation Loss')\n",
    "plt.title(\"Training and Validation Loss for WHAS500 Survival Analysis\")\n",
    "plt.xlabel(\"Epochs\")\n",
    "plt.ylabel(\"Loss\")\n",
    "plt.legend()\n",
    "plt.show()"
   ]
  }
 ],
 "metadata": {
  "kernelspec": {
   "display_name": "Python 3",
   "language": "python",
   "name": "python3"
  },
  "language_info": {
   "codemirror_mode": {
    "name": "ipython",
    "version": 3
   },
   "file_extension": ".py",
   "mimetype": "text/x-python",
   "name": "python",
   "nbconvert_exporter": "python",
   "pygments_lexer": "ipython3",
   "version": "3.10.4"
  }
 },
 "nbformat": 4,
 "nbformat_minor": 2
}
